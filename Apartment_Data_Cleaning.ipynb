{
  "nbformat": 4,
  "nbformat_minor": 0,
  "metadata": {
    "colab": {
      "name": "Apartment_Data_Cleaning",
      "provenance": [],
      "collapsed_sections": [],
      "toc_visible": true,
      "authorship_tag": "ABX9TyNU+uXnDpoWyU0xdXlBD98T",
      "include_colab_link": true
    },
    "kernelspec": {
      "name": "python3",
      "display_name": "Python 3"
    }
  },
  "cells": [
    {
      "cell_type": "markdown",
      "metadata": {
        "id": "view-in-github",
        "colab_type": "text"
      },
      "source": [
        "<a href=\"https://colab.research.google.com/github/bryandaetz1/Apartment_Rent_Prices/blob/master/Apartment_Data_Cleaning.ipynb\" target=\"_parent\"><img src=\"https://colab.research.google.com/assets/colab-badge.svg\" alt=\"Open In Colab\"/></a>"
      ]
    },
    {
      "cell_type": "code",
      "metadata": {
        "id": "6Ntv-aj-2lip",
        "colab_type": "code",
        "colab": {}
      },
      "source": [
        "import pandas as pd\n",
        "import numpy as np\n",
        "import re"
      ],
      "execution_count": 1,
      "outputs": []
    },
    {
      "cell_type": "code",
      "metadata": {
        "id": "v5dKVxwY2nBp",
        "colab_type": "code",
        "colab": {}
      },
      "source": [
        "oak = pd.read_csv('https://raw.githubusercontent.com/bryandaetz1/Apartment_Rent_Prices/master/oakland_apartment_data.csv')\n",
        "sf = pd.read_csv('https://raw.githubusercontent.com/bryandaetz1/Apartment_Rent_Prices/master/san_francisco_apartment_data.csv')\n",
        "sj = pd.read_csv('https://raw.githubusercontent.com/bryandaetz1/Apartment_Rent_Prices/master/san_jose_apartment_data.csv')\n",
        "\n",
        "df = pd.concat([oak,sf,sj], axis = 0, sort = False)"
      ],
      "execution_count": 2,
      "outputs": []
    },
    {
      "cell_type": "code",
      "metadata": {
        "id": "PxmpipRC2pkO",
        "colab_type": "code",
        "colab": {
          "base_uri": "https://localhost:8080/",
          "height": 34
        },
        "outputId": "a6143310-22d1-4331-85a2-d35844f0d681"
      },
      "source": [
        "df.shape"
      ],
      "execution_count": 3,
      "outputs": [
        {
          "output_type": "execute_result",
          "data": {
            "text/plain": [
              "(12470, 8)"
            ]
          },
          "metadata": {
            "tags": []
          },
          "execution_count": 3
        }
      ]
    },
    {
      "cell_type": "code",
      "metadata": {
        "id": "o_-3Xt0P8I_h",
        "colab_type": "code",
        "colab": {
          "base_uri": "https://localhost:8080/",
          "height": 204
        },
        "outputId": "3f3363eb-d72a-4b04-e646-217398af8840"
      },
      "source": [
        "df.head()"
      ],
      "execution_count": 4,
      "outputs": [
        {
          "output_type": "execute_result",
          "data": {
            "text/html": [
              "<div>\n",
              "<style scoped>\n",
              "    .dataframe tbody tr th:only-of-type {\n",
              "        vertical-align: middle;\n",
              "    }\n",
              "\n",
              "    .dataframe tbody tr th {\n",
              "        vertical-align: top;\n",
              "    }\n",
              "\n",
              "    .dataframe thead th {\n",
              "        text-align: right;\n",
              "    }\n",
              "</style>\n",
              "<table border=\"1\" class=\"dataframe\">\n",
              "  <thead>\n",
              "    <tr style=\"text-align: right;\">\n",
              "      <th></th>\n",
              "      <th>Title</th>\n",
              "      <th>Address</th>\n",
              "      <th>Bedrooms</th>\n",
              "      <th>Bathrooms</th>\n",
              "      <th>Rent</th>\n",
              "      <th>Square Footage</th>\n",
              "      <th>Availability</th>\n",
              "      <th>Amenities</th>\n",
              "    </tr>\n",
              "  </thead>\n",
              "  <tbody>\n",
              "    <tr>\n",
              "      <th>0</th>\n",
              "      <td>Amelia</td>\n",
              "      <td>411 29th St, Oakland, CA 94609 â€“ Pill Hill</td>\n",
              "      <td>1 Bed</td>\n",
              "      <td>1 Bath</td>\n",
              "      <td>$2,875 - 2,995</td>\n",
              "      <td>502 Sq Ft</td>\n",
              "      <td>Available Now</td>\n",
              "      <td>100% Smoke Free Community, Air Conditioning, B...</td>\n",
              "    </tr>\n",
              "    <tr>\n",
              "      <th>1</th>\n",
              "      <td>Amelia</td>\n",
              "      <td>411 29th St, Oakland, CA 94609 â€“ Pill Hill</td>\n",
              "      <td>1 Bed</td>\n",
              "      <td>1 Bath</td>\n",
              "      <td>$2,875</td>\n",
              "      <td>502 Sq Ft</td>\n",
              "      <td>Available Now</td>\n",
              "      <td>100% Smoke Free Community, Air Conditioning, B...</td>\n",
              "    </tr>\n",
              "    <tr>\n",
              "      <th>2</th>\n",
              "      <td>Amelia</td>\n",
              "      <td>411 29th St, Oakland, CA 94609 â€“ Pill Hill</td>\n",
              "      <td>1 Bed</td>\n",
              "      <td>1 Bath</td>\n",
              "      <td>$2,875</td>\n",
              "      <td>502 Sq Ft</td>\n",
              "      <td>Available Now</td>\n",
              "      <td>100% Smoke Free Community, Air Conditioning, B...</td>\n",
              "    </tr>\n",
              "    <tr>\n",
              "      <th>3</th>\n",
              "      <td>Amelia</td>\n",
              "      <td>411 29th St, Oakland, CA 94609 â€“ Pill Hill</td>\n",
              "      <td>1 Bed</td>\n",
              "      <td>1 Bath</td>\n",
              "      <td>$2,875</td>\n",
              "      <td>502 Sq Ft</td>\n",
              "      <td>Available Now</td>\n",
              "      <td>100% Smoke Free Community, Air Conditioning, B...</td>\n",
              "    </tr>\n",
              "    <tr>\n",
              "      <th>4</th>\n",
              "      <td>Amelia</td>\n",
              "      <td>411 29th St, Oakland, CA 94609 â€“ Pill Hill</td>\n",
              "      <td>1 Bed</td>\n",
              "      <td>1 Bath</td>\n",
              "      <td>$2,875</td>\n",
              "      <td>502 Sq Ft</td>\n",
              "      <td>Available Now</td>\n",
              "      <td>100% Smoke Free Community, Air Conditioning, B...</td>\n",
              "    </tr>\n",
              "  </tbody>\n",
              "</table>\n",
              "</div>"
            ],
            "text/plain": [
              "    Title  ...                                          Amenities\n",
              "0  Amelia  ...  100% Smoke Free Community, Air Conditioning, B...\n",
              "1  Amelia  ...  100% Smoke Free Community, Air Conditioning, B...\n",
              "2  Amelia  ...  100% Smoke Free Community, Air Conditioning, B...\n",
              "3  Amelia  ...  100% Smoke Free Community, Air Conditioning, B...\n",
              "4  Amelia  ...  100% Smoke Free Community, Air Conditioning, B...\n",
              "\n",
              "[5 rows x 8 columns]"
            ]
          },
          "metadata": {
            "tags": []
          },
          "execution_count": 4
        }
      ]
    },
    {
      "cell_type": "code",
      "metadata": {
        "id": "7CsZIHyaboZ6",
        "colab_type": "code",
        "colab": {
          "base_uri": "https://localhost:8080/",
          "height": 170
        },
        "outputId": "f62633ea-8f50-46e0-f09f-2bcd48aa3563"
      },
      "source": [
        "df.isna().sum()"
      ],
      "execution_count": 5,
      "outputs": [
        {
          "output_type": "execute_result",
          "data": {
            "text/plain": [
              "Title               0\n",
              "Address             0\n",
              "Bedrooms            0\n",
              "Bathrooms           9\n",
              "Rent                0\n",
              "Square Footage    375\n",
              "Availability        0\n",
              "Amenities         297\n",
              "dtype: int64"
            ]
          },
          "metadata": {
            "tags": []
          },
          "execution_count": 5
        }
      ]
    },
    {
      "cell_type": "code",
      "metadata": {
        "id": "i0kxYBn4fnP5",
        "colab_type": "code",
        "colab": {}
      },
      "source": [
        "#replacing null values in amenities column with empty strings, will address null values in bathrooms and square footage columns later\n",
        "df['Amenities'].fillna('', inplace = True)"
      ],
      "execution_count": 6,
      "outputs": []
    },
    {
      "cell_type": "markdown",
      "metadata": {
        "id": "I43TQ8yAcBNh",
        "colab_type": "text"
      },
      "source": [
        "#Cleaning Bedroom and Bathroom Columns"
      ]
    },
    {
      "cell_type": "code",
      "metadata": {
        "id": "yYN8ojpu2q70",
        "colab_type": "code",
        "colab": {
          "base_uri": "https://localhost:8080/",
          "height": 221
        },
        "outputId": "4d2bb9cc-5e32-4941-ef23-eb2c9e97a847"
      },
      "source": [
        "df.Bedrooms.value_counts()"
      ],
      "execution_count": 7,
      "outputs": [
        {
          "output_type": "execute_result",
          "data": {
            "text/plain": [
              "1 Bed     5062\n",
              "2 BRs     4663\n",
              "Studio    1705\n",
              "3 BRs      836\n",
              "4 BRs      160\n",
              "5 BRs       29\n",
              "6 BRs       10\n",
              "8 BRs        2\n",
              "13 BRs       1\n",
              "12 BRs       1\n",
              "7 BRs        1\n",
              "Name: Bedrooms, dtype: int64"
            ]
          },
          "metadata": {
            "tags": []
          },
          "execution_count": 7
        }
      ]
    },
    {
      "cell_type": "code",
      "metadata": {
        "id": "25jWjKfB8hVg",
        "colab_type": "code",
        "colab": {
          "base_uri": "https://localhost:8080/",
          "height": 357
        },
        "outputId": "2dc03ea0-dd3a-4033-bc36-761e96a393e6"
      },
      "source": [
        "df.Bathrooms.value_counts()"
      ],
      "execution_count": 8,
      "outputs": [
        {
          "output_type": "execute_result",
          "data": {
            "text/plain": [
              "1 Bath       7319\n",
              "2 Baths      4350\n",
              "1½ Baths      216\n",
              "2½ Baths      176\n",
              "3 Baths       161\n",
              "2Â½ Baths      98\n",
              "1Â½ Baths      69\n",
              "3½ Baths       33\n",
              "4 Baths        14\n",
              "0Â½ Baths       7\n",
              "4½ Baths        4\n",
              "4Â½ Baths       4\n",
              "0½ Baths        3\n",
              "5½ Baths        2\n",
              "10 Baths        1\n",
              "5Â½ Baths       1\n",
              "3Â½ Baths       1\n",
              "3¼ Baths        1\n",
              "17 Baths        1\n",
              "Name: Bathrooms, dtype: int64"
            ]
          },
          "metadata": {
            "tags": []
          },
          "execution_count": 8
        }
      ]
    },
    {
      "cell_type": "code",
      "metadata": {
        "id": "u_e-pkcY22Fm",
        "colab_type": "code",
        "colab": {}
      },
      "source": [
        "# replacing Studio with 0 bedrooms and removing all non-digits from Bedrooms column\n",
        "df.Bedrooms = pd.to_numeric(df.Bedrooms.str.replace('Studio','0').str.replace('\\D','', regex = True))\n",
        "\n",
        "# converting fractions to decimals and removing all letters from Bathrooms column\n",
        "df.Bathrooms = pd.to_numeric(df.Bathrooms.str.replace('½','.5').str.replace('¼','.25').str.replace('Â','').str.replace('[a-zA-z]','', regex = True).str.strip())\n"
      ],
      "execution_count": 9,
      "outputs": []
    },
    {
      "cell_type": "code",
      "metadata": {
        "id": "mD_1gTbW32C3",
        "colab_type": "code",
        "colab": {
          "base_uri": "https://localhost:8080/",
          "height": 221
        },
        "outputId": "ef8a0371-d1be-472e-9363-caf18245b62b"
      },
      "source": [
        "df.Bedrooms.value_counts()"
      ],
      "execution_count": 10,
      "outputs": [
        {
          "output_type": "execute_result",
          "data": {
            "text/plain": [
              "1     5062\n",
              "2     4663\n",
              "0     1705\n",
              "3      836\n",
              "4      160\n",
              "5       29\n",
              "6       10\n",
              "8        2\n",
              "7        1\n",
              "13       1\n",
              "12       1\n",
              "Name: Bedrooms, dtype: int64"
            ]
          },
          "metadata": {
            "tags": []
          },
          "execution_count": 10
        }
      ]
    },
    {
      "cell_type": "code",
      "metadata": {
        "id": "jNWnK0zn4R9M",
        "colab_type": "code",
        "colab": {
          "base_uri": "https://localhost:8080/",
          "height": 255
        },
        "outputId": "7e53a6d1-64b5-4395-b8cf-a9badba1eaf4"
      },
      "source": [
        "df.Bathrooms.value_counts()"
      ],
      "execution_count": 11,
      "outputs": [
        {
          "output_type": "execute_result",
          "data": {
            "text/plain": [
              "1.00     7319\n",
              "2.00     4350\n",
              "1.50      285\n",
              "2.50      274\n",
              "3.00      161\n",
              "3.50       34\n",
              "4.00       14\n",
              "0.50       10\n",
              "4.50        8\n",
              "5.50        3\n",
              "3.25        1\n",
              "17.00       1\n",
              "10.00       1\n",
              "Name: Bathrooms, dtype: int64"
            ]
          },
          "metadata": {
            "tags": []
          },
          "execution_count": 11
        }
      ]
    },
    {
      "cell_type": "code",
      "metadata": {
        "id": "Q2tTjhJ0xfTa",
        "colab_type": "code",
        "colab": {
          "base_uri": "https://localhost:8080/",
          "height": 328
        },
        "outputId": "d3c68e39-897b-4181-e460-fd933c151918"
      },
      "source": [
        "#inspecting rows where number of bathrooms is missing\n",
        "df.loc[df['Bathrooms'].isna()]"
      ],
      "execution_count": 12,
      "outputs": [
        {
          "output_type": "execute_result",
          "data": {
            "text/html": [
              "<div>\n",
              "<style scoped>\n",
              "    .dataframe tbody tr th:only-of-type {\n",
              "        vertical-align: middle;\n",
              "    }\n",
              "\n",
              "    .dataframe tbody tr th {\n",
              "        vertical-align: top;\n",
              "    }\n",
              "\n",
              "    .dataframe thead th {\n",
              "        text-align: right;\n",
              "    }\n",
              "</style>\n",
              "<table border=\"1\" class=\"dataframe\">\n",
              "  <thead>\n",
              "    <tr style=\"text-align: right;\">\n",
              "      <th></th>\n",
              "      <th>Title</th>\n",
              "      <th>Address</th>\n",
              "      <th>Bedrooms</th>\n",
              "      <th>Bathrooms</th>\n",
              "      <th>Rent</th>\n",
              "      <th>Square Footage</th>\n",
              "      <th>Availability</th>\n",
              "      <th>Amenities</th>\n",
              "    </tr>\n",
              "  </thead>\n",
              "  <tbody>\n",
              "    <tr>\n",
              "      <th>2458</th>\n",
              "      <td>Aqua Via</td>\n",
              "      <td>125 2nd St, Oakland, CA 94607 â€“ Jack London ...</td>\n",
              "      <td>0</td>\n",
              "      <td>NaN</td>\n",
              "      <td>$2,598 - 5,359</td>\n",
              "      <td>790 Sq Ft</td>\n",
              "      <td>26-Oct</td>\n",
              "      <td>Air Conditioning in Every Home, Award-Winning ...</td>\n",
              "    </tr>\n",
              "    <tr>\n",
              "      <th>2459</th>\n",
              "      <td>Aqua Via</td>\n",
              "      <td>125 2nd St, Oakland, CA 94607 â€“ Jack London ...</td>\n",
              "      <td>0</td>\n",
              "      <td>NaN</td>\n",
              "      <td>$2,598 - 5,359</td>\n",
              "      <td>790 Sq Ft</td>\n",
              "      <td>26-Oct</td>\n",
              "      <td>Air Conditioning in Every Home, Award-Winning ...</td>\n",
              "    </tr>\n",
              "    <tr>\n",
              "      <th>2975</th>\n",
              "      <td>One Henry Adams</td>\n",
              "      <td>1 Henry Adams St, San Francisco, CA 94103 – Po...</td>\n",
              "      <td>1</td>\n",
              "      <td>NaN</td>\n",
              "      <td>Call for Rent</td>\n",
              "      <td>651 Sq Ft</td>\n",
              "      <td>Not Available</td>\n",
              "      <td>Courtyard, High Speed Internet Access, Roommat...</td>\n",
              "    </tr>\n",
              "    <tr>\n",
              "      <th>3788</th>\n",
              "      <td>FOUND Study Nob Hill</td>\n",
              "      <td>851 California St, San Francisco, CA 94108 – C...</td>\n",
              "      <td>1</td>\n",
              "      <td>NaN</td>\n",
              "      <td>$1,300 - 1,650</td>\n",
              "      <td>NaN</td>\n",
              "      <td>Available Now</td>\n",
              "      <td>Furnished, Built in 1910, 80 Units/4 Stories, ...</td>\n",
              "    </tr>\n",
              "    <tr>\n",
              "      <th>3789</th>\n",
              "      <td>FOUND Study Nob Hill</td>\n",
              "      <td>851 California St, San Francisco, CA 94108 – C...</td>\n",
              "      <td>1</td>\n",
              "      <td>NaN</td>\n",
              "      <td>$1,300</td>\n",
              "      <td>NaN</td>\n",
              "      <td>Available Now</td>\n",
              "      <td>Furnished, Built in 1910, 80 Units/4 Stories, ...</td>\n",
              "    </tr>\n",
              "    <tr>\n",
              "      <th>3790</th>\n",
              "      <td>FOUND Study Nob Hill</td>\n",
              "      <td>851 California St, San Francisco, CA 94108 – C...</td>\n",
              "      <td>1</td>\n",
              "      <td>NaN</td>\n",
              "      <td>$1,650</td>\n",
              "      <td>NaN</td>\n",
              "      <td>Available Now</td>\n",
              "      <td>Furnished, Built in 1910, 80 Units/4 Stories, ...</td>\n",
              "    </tr>\n",
              "    <tr>\n",
              "      <th>3791</th>\n",
              "      <td>FOUND Study Nob Hill</td>\n",
              "      <td>851 California St, San Francisco, CA 94108 – C...</td>\n",
              "      <td>1</td>\n",
              "      <td>NaN</td>\n",
              "      <td>$1,650</td>\n",
              "      <td>NaN</td>\n",
              "      <td>Available Now</td>\n",
              "      <td>Furnished, Built in 1910, 80 Units/4 Stories, ...</td>\n",
              "    </tr>\n",
              "    <tr>\n",
              "      <th>3792</th>\n",
              "      <td>FOUND Study Nob Hill</td>\n",
              "      <td>851 California St, San Francisco, CA 94108 – C...</td>\n",
              "      <td>1</td>\n",
              "      <td>NaN</td>\n",
              "      <td>$1,650</td>\n",
              "      <td>NaN</td>\n",
              "      <td>Available Now</td>\n",
              "      <td>Furnished, Built in 1910, 80 Units/4 Stories, ...</td>\n",
              "    </tr>\n",
              "    <tr>\n",
              "      <th>3982</th>\n",
              "      <td>1801 15th St</td>\n",
              "      <td>1801 15th St, San Francisco, CA 94103 – Missio...</td>\n",
              "      <td>0</td>\n",
              "      <td>NaN</td>\n",
              "      <td>Call for Rent</td>\n",
              "      <td>NaN</td>\n",
              "      <td>Available Soon</td>\n",
              "      <td>Built in 1924, 9 Units/3 Stories</td>\n",
              "    </tr>\n",
              "  </tbody>\n",
              "</table>\n",
              "</div>"
            ],
            "text/plain": [
              "                     Title  ...                                          Amenities\n",
              "2458              Aqua Via  ...  Air Conditioning in Every Home, Award-Winning ...\n",
              "2459              Aqua Via  ...  Air Conditioning in Every Home, Award-Winning ...\n",
              "2975       One Henry Adams  ...  Courtyard, High Speed Internet Access, Roommat...\n",
              "3788  FOUND Study Nob Hill  ...  Furnished, Built in 1910, 80 Units/4 Stories, ...\n",
              "3789  FOUND Study Nob Hill  ...  Furnished, Built in 1910, 80 Units/4 Stories, ...\n",
              "3790  FOUND Study Nob Hill  ...  Furnished, Built in 1910, 80 Units/4 Stories, ...\n",
              "3791  FOUND Study Nob Hill  ...  Furnished, Built in 1910, 80 Units/4 Stories, ...\n",
              "3792  FOUND Study Nob Hill  ...  Furnished, Built in 1910, 80 Units/4 Stories, ...\n",
              "3982          1801 15th St  ...                   Built in 1924, 9 Units/3 Stories\n",
              "\n",
              "[9 rows x 8 columns]"
            ]
          },
          "metadata": {
            "tags": []
          },
          "execution_count": 12
        }
      ]
    },
    {
      "cell_type": "code",
      "metadata": {
        "id": "96hY4ut5xoue",
        "colab_type": "code",
        "colab": {}
      },
      "source": [
        "# only 9 apartments don't have bathrooms listed and they are all either studios are 1 bedrooms, assuming this means 1 Bathroom\n",
        "df['Bathrooms'].fillna(1, inplace = True)"
      ],
      "execution_count": 13,
      "outputs": []
    },
    {
      "cell_type": "markdown",
      "metadata": {
        "id": "l3JuWbnicH6r",
        "colab_type": "text"
      },
      "source": [
        "# Extracting Features from Address Column"
      ]
    },
    {
      "cell_type": "code",
      "metadata": {
        "id": "nNuaSXW07Bvj",
        "colab_type": "code",
        "colab": {
          "base_uri": "https://localhost:8080/",
          "height": 221
        },
        "outputId": "aa5ba390-abd3-447d-e0a1-bbe2b1c72e6e"
      },
      "source": [
        "#most addresses have a special symbol â€“ that will make them easy to split, but that's not the case for all of them\n",
        "#inspecting addresses without this symbol\n",
        "df.Address.loc[df['Address'].str.contains('â€“') == False]"
      ],
      "execution_count": 14,
      "outputs": [
        {
          "output_type": "execute_result",
          "data": {
            "text/plain": [
              "0       150 Van Ness Ave, San Francisco, CA 94102 – Ci...\n",
              "1       150 Van Ness Ave, San Francisco, CA 94102 – Ci...\n",
              "2       150 Van Ness Ave, San Francisco, CA 94102 – Ci...\n",
              "3       150 Van Ness Ave, San Francisco, CA 94102 – Ci...\n",
              "4       150 Van Ness Ave, San Francisco, CA 94102 – Ci...\n",
              "                              ...                        \n",
              "4620    3092 Manuel St, San Jose, CA 95136 – South San...\n",
              "4621     3420 Borge Ct, San Jose, CA 95132 – Upper Sierra\n",
              "4622        376 N 20th St, San Jose, CA 95112 – Northside\n",
              "4623       776 Deland Ave, San Jose, CA 95128 – Rose Glen\n",
              "4624       776 Deland Ave, San Jose, CA 95128 – Rose Glen\n",
              "Name: Address, Length: 9230, dtype: object"
            ]
          },
          "metadata": {
            "tags": []
          },
          "execution_count": 14
        }
      ]
    },
    {
      "cell_type": "code",
      "metadata": {
        "id": "Zex-H21SGjFd",
        "colab_type": "code",
        "colab": {}
      },
      "source": [
        "#extracting city from address and saving it as a new column\n",
        "df['City'] = df.Address.apply(lambda x: x.split(', CA')[0]).apply(lambda x: x.split(',')[-1]).str.strip()"
      ],
      "execution_count": 15,
      "outputs": []
    },
    {
      "cell_type": "code",
      "metadata": {
        "id": "ofk4uricIp-1",
        "colab_type": "code",
        "colab": {
          "base_uri": "https://localhost:8080/",
          "height": 306
        },
        "outputId": "6df29517-e93b-4f37-984c-70d328ef11be"
      },
      "source": [
        "df['City'].value_counts()"
      ],
      "execution_count": 16,
      "outputs": [
        {
          "output_type": "execute_result",
          "data": {
            "text/plain": [
              "San Francisco    4553\n",
              "San Jose         3632\n",
              "Oakland          2446\n",
              "Milpitas          369\n",
              "Berkeley          333\n",
              "Emeryville        311\n",
              "Santa Clara       269\n",
              "Campbell          178\n",
              "Cupertino         137\n",
              "Alameda            99\n",
              "Daly City          52\n",
              "San Leandro        37\n",
              "Sunnyvale          26\n",
              "Piedmont           14\n",
              "Los Gatos          13\n",
              "Saratoga            1\n",
              "Name: City, dtype: int64"
            ]
          },
          "metadata": {
            "tags": []
          },
          "execution_count": 16
        }
      ]
    },
    {
      "cell_type": "code",
      "metadata": {
        "id": "aGcHksOtE7dV",
        "colab_type": "code",
        "colab": {}
      },
      "source": [
        "#extracting zip code from address and storing this as a new column\n",
        "df['Zip_Code'] = df.Address.apply(lambda x: x.split('CA')[-1]).apply(lambda x: x.split('â€“')[0] if 'â€“' in str(x) else x.split('–')[0]).str.strip()"
      ],
      "execution_count": 17,
      "outputs": []
    },
    {
      "cell_type": "code",
      "metadata": {
        "id": "m0EscjwFGOUq",
        "colab_type": "code",
        "colab": {
          "base_uri": "https://localhost:8080/",
          "height": 221
        },
        "outputId": "713f096d-60d4-4099-829d-cc61c2f46004"
      },
      "source": [
        "df['Zip_Code'].value_counts()"
      ],
      "execution_count": 18,
      "outputs": [
        {
          "output_type": "execute_result",
          "data": {
            "text/plain": [
              "94612    1347\n",
              "94107    1041\n",
              "94105     850\n",
              "94103     799\n",
              "95134     658\n",
              "         ... \n",
              "94127       3\n",
              "95139       2\n",
              "94104       2\n",
              "95070       1\n",
              "94708       1\n",
              "Name: Zip_Code, Length: 89, dtype: int64"
            ]
          },
          "metadata": {
            "tags": []
          },
          "execution_count": 18
        }
      ]
    },
    {
      "cell_type": "code",
      "metadata": {
        "id": "38f168c6A6m_",
        "colab_type": "code",
        "colab": {}
      },
      "source": [
        "#extracting neighborhood from address and storing this as a new column\n",
        "df['Neighborhood'] = df.Address.apply(lambda x: x.split('â€“')[-1] if 'â€“' in str(x) else x.split('–')[-1]).str.strip()"
      ],
      "execution_count": 19,
      "outputs": []
    },
    {
      "cell_type": "code",
      "metadata": {
        "id": "Cs5aPNPLCu1z",
        "colab_type": "code",
        "colab": {
          "base_uri": "https://localhost:8080/",
          "height": 952
        },
        "outputId": "006889f4-3199-430d-be5a-f250764ab011"
      },
      "source": [
        "#finding neighborhoods that appear most frequently repeatedly\n",
        "top_neighborhoods = df['Neighborhood'].value_counts()\n",
        "top_neighborhoods[top_neighborhoods > 50]"
      ],
      "execution_count": 20,
      "outputs": [
        {
          "output_type": "execute_result",
          "data": {
            "text/plain": [
              "Mission Bay                  723\n",
              "Lakeside                     669\n",
              "North San Jose               547\n",
              "Rincon                       543\n",
              "Northside                    467\n",
              "SoMa                         359\n",
              "Uptown Oakland               346\n",
              "Emeryville                   294\n",
              "Westlake                     283\n",
              "Potrero                      263\n",
              "Dogpatch                     245\n",
              "Santa Clara                  242\n",
              "Mission                      241\n",
              "South Market                 218\n",
              "Civic Center                 217\n",
              "Milpitas                     205\n",
              "Santa Teresa                 202\n",
              "South Beach                  176\n",
              "San Francisco                176\n",
              "Lower Haight                 175\n",
              "Jack London Square           172\n",
              "Rincon Hill                  153\n",
              "South Berkeley               146\n",
              "Financial District           142\n",
              "Pill Hill                    139\n",
              "Oakland                      139\n",
              "Buena Vista                  134\n",
              "Westwood Park                131\n",
              "River Oaks                   123\n",
              "Shafter                      123\n",
              "Lower Pacific Heights        110\n",
              "Downtown Cupertino           109\n",
              "Hamann Park                  108\n",
              "Japantown                    102\n",
              "Midtown Milpitas             100\n",
              "Sunol-Midtown                 99\n",
              "Blossom Valley/S San Jose     97\n",
              "Transbay                      94\n",
              "Garden Alameda                86\n",
              "Downtown San Jose             85\n",
              "Berryessa                     83\n",
              "Campbell                      78\n",
              "Sun                           77\n",
              "Renaissance                   77\n",
              "South San Jose                75\n",
              "Hayes Valley                  75\n",
              "West Alameda                  68\n",
              "Elmwood                       67\n",
              "Mosswood                      63\n",
              "Loma Linda                    63\n",
              "West Oakland                  61\n",
              "Parkview                      58\n",
              "Bayview                       57\n",
              "Piedmont Avenue               52\n",
              "Name: Neighborhood, dtype: int64"
            ]
          },
          "metadata": {
            "tags": []
          },
          "execution_count": 20
        }
      ]
    },
    {
      "cell_type": "markdown",
      "metadata": {
        "id": "_jWjrgNTcnop",
        "colab_type": "text"
      },
      "source": [
        "#Cleaning Rent Column"
      ]
    },
    {
      "cell_type": "code",
      "metadata": {
        "id": "prSjDzCwI4WU",
        "colab_type": "code",
        "colab": {
          "base_uri": "https://localhost:8080/",
          "height": 51
        },
        "outputId": "8b70c71b-866e-4f4c-b11c-be23827f1ce0"
      },
      "source": [
        "#testing to see how many listings have a range for rent \n",
        "print('Number of Listings with Rent Range:', len(df[df['Rent'].str.contains('-')]))\n",
        "print('Number of Listings with No Rent Listed:', len(df[df['Rent'].str.contains('Call')]))\n"
      ],
      "execution_count": 21,
      "outputs": [
        {
          "output_type": "stream",
          "text": [
            "Number of Listings with Rent Range: 4525\n",
            "Number of Listings with No Rent Listed: 1746\n"
          ],
          "name": "stdout"
        }
      ]
    },
    {
      "cell_type": "code",
      "metadata": {
        "id": "afBGyBn4hOSc",
        "colab_type": "code",
        "colab": {}
      },
      "source": [
        "# dropping rows where rent isn't listed\n",
        "df.drop(df.loc[df['Rent'].str.contains('Call')].index, axis = 0, inplace = True)\n",
        "\n",
        "#removing dollar signs, commas and / Person from rent column\n",
        "df['Rent'] = df['Rent'].str.replace('$','').str.replace(',','').str.replace('/ Person','')"
      ],
      "execution_count": 22,
      "outputs": []
    },
    {
      "cell_type": "code",
      "metadata": {
        "id": "e5H5b0vAqBBF",
        "colab_type": "code",
        "colab": {
          "base_uri": "https://localhost:8080/",
          "height": 34
        },
        "outputId": "e810c7d8-0b85-43c3-f04d-a429ee8bffd3"
      },
      "source": [
        "df.shape"
      ],
      "execution_count": 23,
      "outputs": [
        {
          "output_type": "execute_result",
          "data": {
            "text/plain": [
              "(8124, 11)"
            ]
          },
          "metadata": {
            "tags": []
          },
          "execution_count": 23
        }
      ]
    },
    {
      "cell_type": "code",
      "metadata": {
        "id": "BLKlwhndpQo2",
        "colab_type": "code",
        "colab": {}
      },
      "source": [
        "# creating new column with average rents for listings where there is a rent range, and the rent amount for listings with just one rent amount\n",
        "avg_rent = []\n",
        "for x in df['Rent']:\n",
        "  if '-' in x:\n",
        "    avg = round((int(x.split('-')[0]) + int(x.split('-')[-1])) / 2)  #rounding up since rent prices generally don't include decimals\n",
        "    avg_rent.append(avg)\n",
        "  else:\n",
        "    avg_rent.append(x)\n",
        "\n",
        "df['Avg_Rent'] = pd.to_numeric(avg_rent)"
      ],
      "execution_count": 24,
      "outputs": []
    },
    {
      "cell_type": "code",
      "metadata": {
        "id": "vI6MHvmn9FA6",
        "colab_type": "code",
        "colab": {
          "base_uri": "https://localhost:8080/",
          "height": 359
        },
        "outputId": "cdcecb92-3a26-4cb0-b6e8-5dcd19696a86"
      },
      "source": [
        "#making sure this worked\n",
        "df.loc[df['Rent'].str.contains('-'), ['Rent','Avg_Rent']].head(10)"
      ],
      "execution_count": 25,
      "outputs": [
        {
          "output_type": "execute_result",
          "data": {
            "text/html": [
              "<div>\n",
              "<style scoped>\n",
              "    .dataframe tbody tr th:only-of-type {\n",
              "        vertical-align: middle;\n",
              "    }\n",
              "\n",
              "    .dataframe tbody tr th {\n",
              "        vertical-align: top;\n",
              "    }\n",
              "\n",
              "    .dataframe thead th {\n",
              "        text-align: right;\n",
              "    }\n",
              "</style>\n",
              "<table border=\"1\" class=\"dataframe\">\n",
              "  <thead>\n",
              "    <tr style=\"text-align: right;\">\n",
              "      <th></th>\n",
              "      <th>Rent</th>\n",
              "      <th>Avg_Rent</th>\n",
              "    </tr>\n",
              "  </thead>\n",
              "  <tbody>\n",
              "    <tr>\n",
              "      <th>0</th>\n",
              "      <td>2875 - 2995</td>\n",
              "      <td>2935</td>\n",
              "    </tr>\n",
              "    <tr>\n",
              "      <th>65</th>\n",
              "      <td>3230 - 3245</td>\n",
              "      <td>3238</td>\n",
              "    </tr>\n",
              "    <tr>\n",
              "      <th>68</th>\n",
              "      <td>3495 - 3520</td>\n",
              "      <td>3508</td>\n",
              "    </tr>\n",
              "    <tr>\n",
              "      <th>83</th>\n",
              "      <td>2555 - 2783</td>\n",
              "      <td>2669</td>\n",
              "    </tr>\n",
              "    <tr>\n",
              "      <th>88</th>\n",
              "      <td>2577 - 2827</td>\n",
              "      <td>2702</td>\n",
              "    </tr>\n",
              "    <tr>\n",
              "      <th>90</th>\n",
              "      <td>2631 - 3107</td>\n",
              "      <td>2869</td>\n",
              "    </tr>\n",
              "    <tr>\n",
              "      <th>99</th>\n",
              "      <td>2755 - 3217</td>\n",
              "      <td>2986</td>\n",
              "    </tr>\n",
              "    <tr>\n",
              "      <th>107</th>\n",
              "      <td>2884 - 3053</td>\n",
              "      <td>2968</td>\n",
              "    </tr>\n",
              "    <tr>\n",
              "      <th>108</th>\n",
              "      <td>2884 - 2938</td>\n",
              "      <td>2911</td>\n",
              "    </tr>\n",
              "    <tr>\n",
              "      <th>109</th>\n",
              "      <td>2894 - 2948</td>\n",
              "      <td>2921</td>\n",
              "    </tr>\n",
              "  </tbody>\n",
              "</table>\n",
              "</div>"
            ],
            "text/plain": [
              "            Rent  Avg_Rent\n",
              "0    2875 - 2995      2935\n",
              "65   3230 - 3245      3238\n",
              "68   3495 - 3520      3508\n",
              "83   2555 - 2783      2669\n",
              "88   2577 - 2827      2702\n",
              "90   2631 - 3107      2869\n",
              "99   2755 - 3217      2986\n",
              "107  2884 - 3053      2968\n",
              "108  2884 - 2938      2911\n",
              "109  2894 - 2948      2921"
            ]
          },
          "metadata": {
            "tags": []
          },
          "execution_count": 25
        }
      ]
    },
    {
      "cell_type": "markdown",
      "metadata": {
        "id": "hhZsGuQJc_nS",
        "colab_type": "text"
      },
      "source": [
        "#Cleaning Square Footage Column"
      ]
    },
    {
      "cell_type": "code",
      "metadata": {
        "id": "1Y90LDWLyGKo",
        "colab_type": "code",
        "colab": {
          "base_uri": "https://localhost:8080/",
          "height": 238
        },
        "outputId": "7771f1b8-3153-4461-b3aa-6e7d28468337"
      },
      "source": [
        "df.isna().sum()"
      ],
      "execution_count": 26,
      "outputs": [
        {
          "output_type": "execute_result",
          "data": {
            "text/plain": [
              "Title               0\n",
              "Address             0\n",
              "Bedrooms            0\n",
              "Bathrooms           0\n",
              "Rent                0\n",
              "Square Footage    192\n",
              "Availability        0\n",
              "Amenities           0\n",
              "City                0\n",
              "Zip_Code            0\n",
              "Neighborhood        0\n",
              "Avg_Rent            0\n",
              "dtype: int64"
            ]
          },
          "metadata": {
            "tags": []
          },
          "execution_count": 26
        }
      ]
    },
    {
      "cell_type": "code",
      "metadata": {
        "id": "xJLrQ3cxMkmh",
        "colab_type": "code",
        "colab": {}
      },
      "source": [
        "#removing letters, commas and extra whitespace from square footage column\n",
        "df['Square Footage'] = df['Square Footage'].str.replace('[a-zA-z]','',regex = True).str.replace(',','').str.strip()"
      ],
      "execution_count": 27,
      "outputs": []
    },
    {
      "cell_type": "code",
      "metadata": {
        "id": "JSLLrVTzyKlZ",
        "colab_type": "code",
        "colab": {}
      },
      "source": [
        "# creating new column with average square footage for listings where there is a sqft range, and the square footage for listings with just one sqft amount\n",
        "avg_sqft = []\n",
        "for x in df['Square Footage']:\n",
        "  if '-' in str(x):\n",
        "    avg = round((int(x.split('-')[0]) + int(x.split('-')[-1])) / 2)\n",
        "    avg_sqft.append(avg)\n",
        "  else:\n",
        "    avg_sqft.append(x)\n",
        "df['Avg_Sqft'] = pd.to_numeric(avg_sqft)\n"
      ],
      "execution_count": 28,
      "outputs": []
    },
    {
      "cell_type": "code",
      "metadata": {
        "id": "Ff0E-aFvMEqI",
        "colab_type": "code",
        "colab": {
          "base_uri": "https://localhost:8080/",
          "height": 359
        },
        "outputId": "52b3ad9c-efe0-4241-f5f1-a391dbd12a8c"
      },
      "source": [
        "#making sure this worked\n",
        "df.loc[df['Square Footage'].str.contains('-', na=False), ['Square Footage','Avg_Sqft']].head(10)"
      ],
      "execution_count": 29,
      "outputs": [
        {
          "output_type": "execute_result",
          "data": {
            "text/html": [
              "<div>\n",
              "<style scoped>\n",
              "    .dataframe tbody tr th:only-of-type {\n",
              "        vertical-align: middle;\n",
              "    }\n",
              "\n",
              "    .dataframe tbody tr th {\n",
              "        vertical-align: top;\n",
              "    }\n",
              "\n",
              "    .dataframe thead th {\n",
              "        text-align: right;\n",
              "    }\n",
              "</style>\n",
              "<table border=\"1\" class=\"dataframe\">\n",
              "  <thead>\n",
              "    <tr style=\"text-align: right;\">\n",
              "      <th></th>\n",
              "      <th>Square Footage</th>\n",
              "      <th>Avg_Sqft</th>\n",
              "    </tr>\n",
              "  </thead>\n",
              "  <tbody>\n",
              "    <tr>\n",
              "      <th>164</th>\n",
              "      <td>455 - 469</td>\n",
              "      <td>462.0</td>\n",
              "    </tr>\n",
              "    <tr>\n",
              "      <th>171</th>\n",
              "      <td>530 - 601</td>\n",
              "      <td>566.0</td>\n",
              "    </tr>\n",
              "    <tr>\n",
              "      <th>177</th>\n",
              "      <td>676 - 721</td>\n",
              "      <td>698.0</td>\n",
              "    </tr>\n",
              "    <tr>\n",
              "      <th>201</th>\n",
              "      <td>526 - 570</td>\n",
              "      <td>548.0</td>\n",
              "    </tr>\n",
              "    <tr>\n",
              "      <th>202</th>\n",
              "      <td>526 - 570</td>\n",
              "      <td>548.0</td>\n",
              "    </tr>\n",
              "    <tr>\n",
              "      <th>203</th>\n",
              "      <td>526 - 570</td>\n",
              "      <td>548.0</td>\n",
              "    </tr>\n",
              "    <tr>\n",
              "      <th>204</th>\n",
              "      <td>610 - 721</td>\n",
              "      <td>666.0</td>\n",
              "    </tr>\n",
              "    <tr>\n",
              "      <th>205</th>\n",
              "      <td>610 - 721</td>\n",
              "      <td>666.0</td>\n",
              "    </tr>\n",
              "    <tr>\n",
              "      <th>206</th>\n",
              "      <td>526 - 572</td>\n",
              "      <td>549.0</td>\n",
              "    </tr>\n",
              "    <tr>\n",
              "      <th>207</th>\n",
              "      <td>526 - 572</td>\n",
              "      <td>549.0</td>\n",
              "    </tr>\n",
              "  </tbody>\n",
              "</table>\n",
              "</div>"
            ],
            "text/plain": [
              "    Square Footage  Avg_Sqft\n",
              "164      455 - 469     462.0\n",
              "171      530 - 601     566.0\n",
              "177      676 - 721     698.0\n",
              "201      526 - 570     548.0\n",
              "202      526 - 570     548.0\n",
              "203      526 - 570     548.0\n",
              "204      610 - 721     666.0\n",
              "205      610 - 721     666.0\n",
              "206      526 - 572     549.0\n",
              "207      526 - 572     549.0"
            ]
          },
          "metadata": {
            "tags": []
          },
          "execution_count": 29
        }
      ]
    },
    {
      "cell_type": "code",
      "metadata": {
        "id": "UxbWT2z5kbQB",
        "colab_type": "code",
        "colab": {
          "base_uri": "https://localhost:8080/",
          "height": 153
        },
        "outputId": "9022d1e3-9c6a-4b73-ac6f-626eb3f837a6"
      },
      "source": [
        "#getting a sense of how many missing square footage values there are for each bedroom size\n",
        "df.loc[df['Avg_Sqft'].isna()]['Bedrooms'].value_counts()"
      ],
      "execution_count": 30,
      "outputs": [
        {
          "output_type": "execute_result",
          "data": {
            "text/plain": [
              "1    59\n",
              "2    50\n",
              "0    40\n",
              "3    31\n",
              "4    10\n",
              "7     1\n",
              "6     1\n",
              "Name: Bedrooms, dtype: int64"
            ]
          },
          "metadata": {
            "tags": []
          },
          "execution_count": 30
        }
      ]
    },
    {
      "cell_type": "code",
      "metadata": {
        "id": "o-mXEdq_jwzY",
        "colab_type": "code",
        "colab": {
          "base_uri": "https://localhost:8080/",
          "height": 390
        },
        "outputId": "f38647ec-d1df-4f4f-81f0-44e86a7f7670"
      },
      "source": [
        "#getting average square footage by bedroom size\n",
        "averages = round(df.groupby('Bedrooms', as_index = False)['Avg_Sqft'].mean())\n",
        "averages"
      ],
      "execution_count": 31,
      "outputs": [
        {
          "output_type": "execute_result",
          "data": {
            "text/html": [
              "<div>\n",
              "<style scoped>\n",
              "    .dataframe tbody tr th:only-of-type {\n",
              "        vertical-align: middle;\n",
              "    }\n",
              "\n",
              "    .dataframe tbody tr th {\n",
              "        vertical-align: top;\n",
              "    }\n",
              "\n",
              "    .dataframe thead th {\n",
              "        text-align: right;\n",
              "    }\n",
              "</style>\n",
              "<table border=\"1\" class=\"dataframe\">\n",
              "  <thead>\n",
              "    <tr style=\"text-align: right;\">\n",
              "      <th></th>\n",
              "      <th>Bedrooms</th>\n",
              "      <th>Avg_Sqft</th>\n",
              "    </tr>\n",
              "  </thead>\n",
              "  <tbody>\n",
              "    <tr>\n",
              "      <th>0</th>\n",
              "      <td>0</td>\n",
              "      <td>496.0</td>\n",
              "    </tr>\n",
              "    <tr>\n",
              "      <th>1</th>\n",
              "      <td>1</td>\n",
              "      <td>718.0</td>\n",
              "    </tr>\n",
              "    <tr>\n",
              "      <th>2</th>\n",
              "      <td>2</td>\n",
              "      <td>1114.0</td>\n",
              "    </tr>\n",
              "    <tr>\n",
              "      <th>3</th>\n",
              "      <td>3</td>\n",
              "      <td>1518.0</td>\n",
              "    </tr>\n",
              "    <tr>\n",
              "      <th>4</th>\n",
              "      <td>4</td>\n",
              "      <td>1899.0</td>\n",
              "    </tr>\n",
              "    <tr>\n",
              "      <th>5</th>\n",
              "      <td>5</td>\n",
              "      <td>2318.0</td>\n",
              "    </tr>\n",
              "    <tr>\n",
              "      <th>6</th>\n",
              "      <td>6</td>\n",
              "      <td>1430.0</td>\n",
              "    </tr>\n",
              "    <tr>\n",
              "      <th>7</th>\n",
              "      <td>7</td>\n",
              "      <td>NaN</td>\n",
              "    </tr>\n",
              "    <tr>\n",
              "      <th>8</th>\n",
              "      <td>8</td>\n",
              "      <td>3300.0</td>\n",
              "    </tr>\n",
              "    <tr>\n",
              "      <th>9</th>\n",
              "      <td>12</td>\n",
              "      <td>2200.0</td>\n",
              "    </tr>\n",
              "    <tr>\n",
              "      <th>10</th>\n",
              "      <td>13</td>\n",
              "      <td>6272.0</td>\n",
              "    </tr>\n",
              "  </tbody>\n",
              "</table>\n",
              "</div>"
            ],
            "text/plain": [
              "    Bedrooms  Avg_Sqft\n",
              "0          0     496.0\n",
              "1          1     718.0\n",
              "2          2    1114.0\n",
              "3          3    1518.0\n",
              "4          4    1899.0\n",
              "5          5    2318.0\n",
              "6          6    1430.0\n",
              "7          7       NaN\n",
              "8          8    3300.0\n",
              "9         12    2200.0\n",
              "10        13    6272.0"
            ]
          },
          "metadata": {
            "tags": []
          },
          "execution_count": 31
        }
      ]
    },
    {
      "cell_type": "code",
      "metadata": {
        "id": "23SBkhd3l1aK",
        "colab_type": "code",
        "colab": {}
      },
      "source": [
        "#replacing null values in Avg_Sqft column with average square footage for the same bedroom size\n",
        "for i in range (0,7):\n",
        "  df.loc[(df['Avg_Sqft'].isna()) & (df['Bedrooms'] == i),'Avg_Sqft'] = averages['Avg_Sqft'][i]"
      ],
      "execution_count": 32,
      "outputs": []
    },
    {
      "cell_type": "code",
      "metadata": {
        "id": "X8NSxMTwpk1G",
        "colab_type": "code",
        "colab": {}
      },
      "source": [
        "# dropping rows where bedroom size is 7 or higher, these are outliers anyway and it will address the missing square footage value for the one 7 bedroom home/apartment that we have\n",
        "df.drop(df.loc[df['Bedrooms'] >= 7].index, axis = 0, inplace = True)"
      ],
      "execution_count": 33,
      "outputs": []
    },
    {
      "cell_type": "code",
      "metadata": {
        "id": "8rPWpbl9-ohX",
        "colab_type": "code",
        "colab": {
          "base_uri": "https://localhost:8080/",
          "height": 34
        },
        "outputId": "6df4c2f4-7079-47f5-db57-202cf7a409d3"
      },
      "source": [
        "#verifying that null values were successfully replaced\n",
        "df.Avg_Sqft.isna().sum()"
      ],
      "execution_count": 34,
      "outputs": [
        {
          "output_type": "execute_result",
          "data": {
            "text/plain": [
              "0"
            ]
          },
          "metadata": {
            "tags": []
          },
          "execution_count": 34
        }
      ]
    },
    {
      "cell_type": "markdown",
      "metadata": {
        "id": "QuyX3zhAP52J",
        "colab_type": "text"
      },
      "source": [
        "# NLP Model for Amenities Column\n",
        "Trying to see if training an NLP model using the bag of words approach will help gain insight on useful features to extract from the Amenities column."
      ]
    },
    {
      "cell_type": "code",
      "metadata": {
        "id": "rlPVlX3rP-yj",
        "colab_type": "code",
        "colab": {
          "base_uri": "https://localhost:8080/",
          "height": 170
        },
        "outputId": "7490dde9-a66f-409c-e02b-3ed861fd91fd"
      },
      "source": [
        "from matplotlib import pyplot as plt\n",
        "import seaborn as sns\n",
        "from sklearn.feature_extraction.text import CountVectorizer\n",
        "from sklearn.model_selection import train_test_split\n",
        "from sklearn import metrics\n",
        "from sklearn.metrics import mean_squared_error \n",
        "from sklearn.metrics import r2_score\n",
        "from sklearn.ensemble import RandomForestRegressor\n",
        "from nltk.stem.porter import PorterStemmer\n",
        "from nltk import word_tokenize, WordNetLemmatizer\n",
        "from nltk.corpus import stopwords\n",
        "import nltk\n",
        "nltk.download('stopwords')\n",
        "nltk.download('wordnet')\n",
        "nltk.download('punkt')"
      ],
      "execution_count": 35,
      "outputs": [
        {
          "output_type": "stream",
          "text": [
            "/usr/local/lib/python3.6/dist-packages/statsmodels/tools/_testing.py:19: FutureWarning: pandas.util.testing is deprecated. Use the functions in the public API at pandas.testing instead.\n",
            "  import pandas.util.testing as tm\n"
          ],
          "name": "stderr"
        },
        {
          "output_type": "stream",
          "text": [
            "[nltk_data] Downloading package stopwords to /root/nltk_data...\n",
            "[nltk_data]   Unzipping corpora/stopwords.zip.\n",
            "[nltk_data] Downloading package wordnet to /root/nltk_data...\n",
            "[nltk_data]   Unzipping corpora/wordnet.zip.\n",
            "[nltk_data] Downloading package punkt to /root/nltk_data...\n",
            "[nltk_data]   Unzipping tokenizers/punkt.zip.\n"
          ],
          "name": "stdout"
        },
        {
          "output_type": "execute_result",
          "data": {
            "text/plain": [
              "True"
            ]
          },
          "metadata": {
            "tags": []
          },
          "execution_count": 35
        }
      ]
    },
    {
      "cell_type": "code",
      "metadata": {
        "id": "_dZLdp6kQAZE",
        "colab_type": "code",
        "colab": {
          "base_uri": "https://localhost:8080/",
          "height": 279
        },
        "outputId": "3e575202-da48-4288-9abd-d487f2bf0e1c"
      },
      "source": [
        "#plotting length of amenities descriptions\n",
        "length = df['Amenities'].str.len()\n",
        "sns.distplot(length)\n",
        "plt.show()"
      ],
      "execution_count": 36,
      "outputs": [
        {
          "output_type": "display_data",
          "data": {
            "image/png": "[encoded data removed]",
            "text/plain": [
              "<Figure size 432x288 with 1 Axes>"
            ]
          },
          "metadata": {
            "tags": [],
            "needs_background": "light"
          }
        }
      ]
    },
    {
      "cell_type": "code",
      "metadata": {
        "id": "TFifISpWQJcD",
        "colab_type": "code",
        "colab": {}
      },
      "source": [
        "#getting set of English stopwords\n",
        "stopword_set = set(stopwords.words('english'))\n",
        "\n",
        "#NLP processing\n",
        "lemma = WordNetLemmatizer()"
      ],
      "execution_count": 37,
      "outputs": []
    },
    {
      "cell_type": "code",
      "metadata": {
        "id": "8WzdtDk0QT3J",
        "colab_type": "code",
        "colab": {
          "base_uri": "https://localhost:8080/",
          "height": 207
        },
        "outputId": "bdd59767-9020-407c-9dc7-69d3bef1f1a2"
      },
      "source": [
        "#clean the raw text\n",
        "amenities_text = []\n",
        "for amenity in df['Amenities']:\n",
        "  text = re.sub('[^a-zA-z]',\" \", str(amenity))\n",
        "  text = text.lower()\n",
        "  text = word_tokenize(text, language = 'english')\n",
        "  text = [lemma.lemmatize(word) for word in text if(word) not in stopword_set]\n",
        "  text = ' '.join(text)\n",
        "  amenities_text.append(text)\n",
        "\n",
        "amenities_text[:10]"
      ],
      "execution_count": 38,
      "outputs": [
        {
          "output_type": "execute_result",
          "data": {
            "text/plain": [
              "['smoke free community air conditioning bicycle storage brand new luxury living controlled access courtyard firepit dog washing station elevator fiber internet gourmet kitchen home full size washer dryer individual climate control minute great shopping amp dining motorized parking lift motorized parking lift noise reducing dual pane window noise reducing insulated dual pane window package locker pet allowed pet welcome weight restriction plank flooring quartz countertop quartz counter top tile backsplash rooftop terrace barbecue rooftop terrace downtown view secure bike parking stainless steel appliance sweeping view oakland hill sweeping view san francisco view sf oakland deposit monthly pet rent lb weight limit pet limit built unit story month month month month month month month month month month month month month month month month maintenance site online service pet care pet washing station public transportation elevator multi use room roof terrace sundeck courtyard grill patio grill bike storage individual locking bedroom private bathroom study lounge high speed internet access wi fi washer dryer unit air conditioning heating cable ready tub shower dishwasher disposal ice maker granite countertop stainless steel appliance eat kitchen kitchen microwave oven range refrigerator freezer hardwood floor vinyl flooring dining room view linen closet double pane window window covering package service property manager site',\n",
              " 'smoke free community air conditioning bicycle storage brand new luxury living controlled access courtyard firepit dog washing station elevator fiber internet gourmet kitchen home full size washer dryer individual climate control minute great shopping amp dining motorized parking lift motorized parking lift noise reducing dual pane window noise reducing insulated dual pane window package locker pet allowed pet welcome weight restriction plank flooring quartz countertop quartz counter top tile backsplash rooftop terrace barbecue rooftop terrace downtown view secure bike parking stainless steel appliance sweeping view oakland hill sweeping view san francisco view sf oakland deposit monthly pet rent lb weight limit pet limit built unit story month month month month month month month month month month month month month month month month maintenance site online service pet care pet washing station public transportation elevator multi use room roof terrace sundeck courtyard grill patio grill bike storage individual locking bedroom private bathroom study lounge high speed internet access wi fi washer dryer unit air conditioning heating cable ready tub shower dishwasher disposal ice maker granite countertop stainless steel appliance eat kitchen kitchen microwave oven range refrigerator freezer hardwood floor vinyl flooring dining room view linen closet double pane window window covering package service property manager site',\n",
              " 'smoke free community air conditioning bicycle storage brand new luxury living controlled access courtyard firepit dog washing station elevator fiber internet gourmet kitchen home full size washer dryer individual climate control minute great shopping amp dining motorized parking lift motorized parking lift noise reducing dual pane window noise reducing insulated dual pane window package locker pet allowed pet welcome weight restriction plank flooring quartz countertop quartz counter top tile backsplash rooftop terrace barbecue rooftop terrace downtown view secure bike parking stainless steel appliance sweeping view oakland hill sweeping view san francisco view sf oakland deposit monthly pet rent lb weight limit pet limit built unit story month month month month month month month month month month month month month month month month maintenance site online service pet care pet washing station public transportation elevator multi use room roof terrace sundeck courtyard grill patio grill bike storage individual locking bedroom private bathroom study lounge high speed internet access wi fi washer dryer unit air conditioning heating cable ready tub shower dishwasher disposal ice maker granite countertop stainless steel appliance eat kitchen kitchen microwave oven range refrigerator freezer hardwood floor vinyl flooring dining room view linen closet double pane window window covering package service property manager site',\n",
              " 'smoke free community air conditioning bicycle storage brand new luxury living controlled access courtyard firepit dog washing station elevator fiber internet gourmet kitchen home full size washer dryer individual climate control minute great shopping amp dining motorized parking lift motorized parking lift noise reducing dual pane window noise reducing insulated dual pane window package locker pet allowed pet welcome weight restriction plank flooring quartz countertop quartz counter top tile backsplash rooftop terrace barbecue rooftop terrace downtown view secure bike parking stainless steel appliance sweeping view oakland hill sweeping view san francisco view sf oakland deposit monthly pet rent lb weight limit pet limit built unit story month month month month month month month month month month month month month month month month maintenance site online service pet care pet washing station public transportation elevator multi use room roof terrace sundeck courtyard grill patio grill bike storage individual locking bedroom private bathroom study lounge high speed internet access wi fi washer dryer unit air conditioning heating cable ready tub shower dishwasher disposal ice maker granite countertop stainless steel appliance eat kitchen kitchen microwave oven range refrigerator freezer hardwood floor vinyl flooring dining room view linen closet double pane window window covering package service property manager site',\n",
              " 'smoke free community air conditioning bicycle storage brand new luxury living controlled access courtyard firepit dog washing station elevator fiber internet gourmet kitchen home full size washer dryer individual climate control minute great shopping amp dining motorized parking lift motorized parking lift noise reducing dual pane window noise reducing insulated dual pane window package locker pet allowed pet welcome weight restriction plank flooring quartz countertop quartz counter top tile backsplash rooftop terrace barbecue rooftop terrace downtown view secure bike parking stainless steel appliance sweeping view oakland hill sweeping view san francisco view sf oakland deposit monthly pet rent lb weight limit pet limit built unit story month month month month month month month month month month month month month month month month maintenance site online service pet care pet washing station public transportation elevator multi use room roof terrace sundeck courtyard grill patio grill bike storage individual locking bedroom private bathroom study lounge high speed internet access wi fi washer dryer unit air conditioning heating cable ready tub shower dishwasher disposal ice maker granite countertop stainless steel appliance eat kitchen kitchen microwave oven range refrigerator freezer hardwood floor vinyl flooring dining room view linen closet double pane window window covering package service property manager site',\n",
              " 'smoke free community air conditioning bicycle storage brand new luxury living controlled access courtyard firepit dog washing station elevator fiber internet gourmet kitchen home full size washer dryer individual climate control minute great shopping amp dining motorized parking lift motorized parking lift noise reducing dual pane window noise reducing insulated dual pane window package locker pet allowed pet welcome weight restriction plank flooring quartz countertop quartz counter top tile backsplash rooftop terrace barbecue rooftop terrace downtown view secure bike parking stainless steel appliance sweeping view oakland hill sweeping view san francisco view sf oakland deposit monthly pet rent lb weight limit pet limit built unit story month month month month month month month month month month month month month month month month maintenance site online service pet care pet washing station public transportation elevator multi use room roof terrace sundeck courtyard grill patio grill bike storage individual locking bedroom private bathroom study lounge high speed internet access wi fi washer dryer unit air conditioning heating cable ready tub shower dishwasher disposal ice maker granite countertop stainless steel appliance eat kitchen kitchen microwave oven range refrigerator freezer hardwood floor vinyl flooring dining room view linen closet double pane window window covering package service property manager site',\n",
              " 'smoke free community air conditioning bicycle storage brand new luxury living controlled access courtyard firepit dog washing station elevator fiber internet gourmet kitchen home full size washer dryer individual climate control minute great shopping amp dining motorized parking lift motorized parking lift noise reducing dual pane window noise reducing insulated dual pane window package locker pet allowed pet welcome weight restriction plank flooring quartz countertop quartz counter top tile backsplash rooftop terrace barbecue rooftop terrace downtown view secure bike parking stainless steel appliance sweeping view oakland hill sweeping view san francisco view sf oakland deposit monthly pet rent lb weight limit pet limit built unit story month month month month month month month month month month month month month month month month maintenance site online service pet care pet washing station public transportation elevator multi use room roof terrace sundeck courtyard grill patio grill bike storage individual locking bedroom private bathroom study lounge high speed internet access wi fi washer dryer unit air conditioning heating cable ready tub shower dishwasher disposal ice maker granite countertop stainless steel appliance eat kitchen kitchen microwave oven range refrigerator freezer hardwood floor vinyl flooring dining room view linen closet double pane window window covering package service property manager site',\n",
              " 'smoke free community air conditioning bicycle storage brand new luxury living controlled access courtyard firepit dog washing station elevator fiber internet gourmet kitchen home full size washer dryer individual climate control minute great shopping amp dining motorized parking lift motorized parking lift noise reducing dual pane window noise reducing insulated dual pane window package locker pet allowed pet welcome weight restriction plank flooring quartz countertop quartz counter top tile backsplash rooftop terrace barbecue rooftop terrace downtown view secure bike parking stainless steel appliance sweeping view oakland hill sweeping view san francisco view sf oakland deposit monthly pet rent lb weight limit pet limit built unit story month month month month month month month month month month month month month month month month maintenance site online service pet care pet washing station public transportation elevator multi use room roof terrace sundeck courtyard grill patio grill bike storage individual locking bedroom private bathroom study lounge high speed internet access wi fi washer dryer unit air conditioning heating cable ready tub shower dishwasher disposal ice maker granite countertop stainless steel appliance eat kitchen kitchen microwave oven range refrigerator freezer hardwood floor vinyl flooring dining room view linen closet double pane window window covering package service property manager site',\n",
              " 'smoke free community air conditioning bicycle storage brand new luxury living controlled access courtyard firepit dog washing station elevator fiber internet gourmet kitchen home full size washer dryer individual climate control minute great shopping amp dining motorized parking lift motorized parking lift noise reducing dual pane window noise reducing insulated dual pane window package locker pet allowed pet welcome weight restriction plank flooring quartz countertop quartz counter top tile backsplash rooftop terrace barbecue rooftop terrace downtown view secure bike parking stainless steel appliance sweeping view oakland hill sweeping view san francisco view sf oakland deposit monthly pet rent lb weight limit pet limit built unit story month month month month month month month month month month month month month month month month maintenance site online service pet care pet washing station public transportation elevator multi use room roof terrace sundeck courtyard grill patio grill bike storage individual locking bedroom private bathroom study lounge high speed internet access wi fi washer dryer unit air conditioning heating cable ready tub shower dishwasher disposal ice maker granite countertop stainless steel appliance eat kitchen kitchen microwave oven range refrigerator freezer hardwood floor vinyl flooring dining room view linen closet double pane window window covering package service property manager site',\n",
              " 'smoke free community air conditioning bicycle storage brand new luxury living controlled access courtyard firepit dog washing station elevator fiber internet gourmet kitchen home full size washer dryer individual climate control minute great shopping amp dining motorized parking lift motorized parking lift noise reducing dual pane window noise reducing insulated dual pane window package locker pet allowed pet welcome weight restriction plank flooring quartz countertop quartz counter top tile backsplash rooftop terrace barbecue rooftop terrace downtown view secure bike parking stainless steel appliance sweeping view oakland hill sweeping view san francisco view sf oakland deposit monthly pet rent lb weight limit pet limit built unit story month month month month month month month month month month month month month month month month maintenance site online service pet care pet washing station public transportation elevator multi use room roof terrace sundeck courtyard grill patio grill bike storage individual locking bedroom private bathroom study lounge high speed internet access wi fi washer dryer unit air conditioning heating cable ready tub shower dishwasher disposal ice maker granite countertop stainless steel appliance eat kitchen kitchen microwave oven range refrigerator freezer hardwood floor vinyl flooring dining room view linen closet double pane window window covering package service property manager site']"
            ]
          },
          "metadata": {
            "tags": []
          },
          "execution_count": 38
        }
      ]
    },
    {
      "cell_type": "code",
      "metadata": {
        "id": "3g0wkbnhQpHx",
        "colab_type": "code",
        "colab": {
          "base_uri": "https://localhost:8080/",
          "height": 253
        },
        "outputId": "cbe9006f-f2ff-449d-8858-319cd13321a2"
      },
      "source": [
        "#create the bag of words model\n",
        "cv = CountVectorizer(max_features = 1500)\n",
        "amenities = cv.fit_transform(amenities_text).toarray()\n",
        "\n",
        "#covert amenities to dataframe\n",
        "amenities = pd.DataFrame(amenities, columns = cv.get_feature_names())\n",
        "amenities.head()"
      ],
      "execution_count": 39,
      "outputs": [
        {
          "output_type": "execute_result",
          "data": {
            "text/html": [
              "<div>\n",
              "<style scoped>\n",
              "    .dataframe tbody tr th:only-of-type {\n",
              "        vertical-align: middle;\n",
              "    }\n",
              "\n",
              "    .dataframe tbody tr th {\n",
              "        vertical-align: top;\n",
              "    }\n",
              "\n",
              "    .dataframe thead th {\n",
              "        text-align: right;\n",
              "    }\n",
              "</style>\n",
              "<table border=\"1\" class=\"dataframe\">\n",
              "  <thead>\n",
              "    <tr style=\"text-align: right;\">\n",
              "      <th></th>\n",
              "      <th>abundant</th>\n",
              "      <th>ac</th>\n",
              "      <th>academic</th>\n",
              "      <th>accent</th>\n",
              "      <th>acceptance</th>\n",
              "      <th>accepted</th>\n",
              "      <th>accepts</th>\n",
              "      <th>access</th>\n",
              "      <th>accessible</th>\n",
              "      <th>accommodate</th>\n",
              "      <th>acre</th>\n",
              "      <th>across</th>\n",
              "      <th>activity</th>\n",
              "      <th>ada</th>\n",
              "      <th>additional</th>\n",
              "      <th>adjacent</th>\n",
              "      <th>adjustable</th>\n",
              "      <th>advantage</th>\n",
              "      <th>aerobic</th>\n",
              "      <th>aerobics</th>\n",
              "      <th>air</th>\n",
              "      <th>airport</th>\n",
              "      <th>airy</th>\n",
              "      <th>alameda</th>\n",
              "      <th>alarm</th>\n",
              "      <th>alcove</th>\n",
              "      <th>alexa</th>\n",
              "      <th>alfred</th>\n",
              "      <th>alfresco</th>\n",
              "      <th>allowed</th>\n",
              "      <th>alone</th>\n",
              "      <th>amazing</th>\n",
              "      <th>amazon</th>\n",
              "      <th>amenity</th>\n",
              "      <th>amp</th>\n",
              "      <th>ample</th>\n",
              "      <th>amtrak</th>\n",
              "      <th>apartment</th>\n",
              "      <th>apartmentratings</th>\n",
              "      <th>app</th>\n",
              "      <th>...</th>\n",
              "      <th>westfield</th>\n",
              "      <th>wet</th>\n",
              "      <th>wheel</th>\n",
              "      <th>wheelchair</th>\n",
              "      <th>whirlpool</th>\n",
              "      <th>white</th>\n",
              "      <th>whole</th>\n",
              "      <th>wi</th>\n",
              "      <th>wide</th>\n",
              "      <th>wifi</th>\n",
              "      <th>william</th>\n",
              "      <th>willow</th>\n",
              "      <th>window</th>\n",
              "      <th>wine</th>\n",
              "      <th>winning</th>\n",
              "      <th>wired</th>\n",
              "      <th>wireless</th>\n",
              "      <th>wiring</th>\n",
              "      <th>within</th>\n",
              "      <th>wood</th>\n",
              "      <th>woodstyle</th>\n",
              "      <th>wool</th>\n",
              "      <th>work</th>\n",
              "      <th>working</th>\n",
              "      <th>workshop</th>\n",
              "      <th>workspace</th>\n",
              "      <th>workstation</th>\n",
              "      <th>worthy</th>\n",
              "      <th>woven</th>\n",
              "      <th>wright</th>\n",
              "      <th>xfinity</th>\n",
              "      <th>yard</th>\n",
              "      <th>year</th>\n",
              "      <th>yelena</th>\n",
              "      <th>yoga</th>\n",
              "      <th>zen</th>\n",
              "      <th>zip</th>\n",
              "      <th>zipcar</th>\n",
              "      <th>zipcars</th>\n",
              "      <th>zone</th>\n",
              "    </tr>\n",
              "  </thead>\n",
              "  <tbody>\n",
              "    <tr>\n",
              "      <th>0</th>\n",
              "      <td>0</td>\n",
              "      <td>0</td>\n",
              "      <td>0</td>\n",
              "      <td>0</td>\n",
              "      <td>0</td>\n",
              "      <td>0</td>\n",
              "      <td>0</td>\n",
              "      <td>2</td>\n",
              "      <td>0</td>\n",
              "      <td>0</td>\n",
              "      <td>0</td>\n",
              "      <td>0</td>\n",
              "      <td>0</td>\n",
              "      <td>0</td>\n",
              "      <td>0</td>\n",
              "      <td>0</td>\n",
              "      <td>0</td>\n",
              "      <td>0</td>\n",
              "      <td>0</td>\n",
              "      <td>0</td>\n",
              "      <td>2</td>\n",
              "      <td>0</td>\n",
              "      <td>0</td>\n",
              "      <td>0</td>\n",
              "      <td>0</td>\n",
              "      <td>0</td>\n",
              "      <td>0</td>\n",
              "      <td>0</td>\n",
              "      <td>0</td>\n",
              "      <td>1</td>\n",
              "      <td>0</td>\n",
              "      <td>0</td>\n",
              "      <td>0</td>\n",
              "      <td>0</td>\n",
              "      <td>1</td>\n",
              "      <td>0</td>\n",
              "      <td>0</td>\n",
              "      <td>0</td>\n",
              "      <td>0</td>\n",
              "      <td>0</td>\n",
              "      <td>...</td>\n",
              "      <td>0</td>\n",
              "      <td>0</td>\n",
              "      <td>0</td>\n",
              "      <td>0</td>\n",
              "      <td>0</td>\n",
              "      <td>0</td>\n",
              "      <td>0</td>\n",
              "      <td>1</td>\n",
              "      <td>0</td>\n",
              "      <td>0</td>\n",
              "      <td>0</td>\n",
              "      <td>0</td>\n",
              "      <td>4</td>\n",
              "      <td>0</td>\n",
              "      <td>0</td>\n",
              "      <td>0</td>\n",
              "      <td>0</td>\n",
              "      <td>0</td>\n",
              "      <td>0</td>\n",
              "      <td>0</td>\n",
              "      <td>0</td>\n",
              "      <td>0</td>\n",
              "      <td>0</td>\n",
              "      <td>0</td>\n",
              "      <td>0</td>\n",
              "      <td>0</td>\n",
              "      <td>0</td>\n",
              "      <td>0</td>\n",
              "      <td>0</td>\n",
              "      <td>0</td>\n",
              "      <td>0</td>\n",
              "      <td>0</td>\n",
              "      <td>0</td>\n",
              "      <td>0</td>\n",
              "      <td>0</td>\n",
              "      <td>0</td>\n",
              "      <td>0</td>\n",
              "      <td>0</td>\n",
              "      <td>0</td>\n",
              "      <td>0</td>\n",
              "    </tr>\n",
              "    <tr>\n",
              "      <th>1</th>\n",
              "      <td>0</td>\n",
              "      <td>0</td>\n",
              "      <td>0</td>\n",
              "      <td>0</td>\n",
              "      <td>0</td>\n",
              "      <td>0</td>\n",
              "      <td>0</td>\n",
              "      <td>2</td>\n",
              "      <td>0</td>\n",
              "      <td>0</td>\n",
              "      <td>0</td>\n",
              "      <td>0</td>\n",
              "      <td>0</td>\n",
              "      <td>0</td>\n",
              "      <td>0</td>\n",
              "      <td>0</td>\n",
              "      <td>0</td>\n",
              "      <td>0</td>\n",
              "      <td>0</td>\n",
              "      <td>0</td>\n",
              "      <td>2</td>\n",
              "      <td>0</td>\n",
              "      <td>0</td>\n",
              "      <td>0</td>\n",
              "      <td>0</td>\n",
              "      <td>0</td>\n",
              "      <td>0</td>\n",
              "      <td>0</td>\n",
              "      <td>0</td>\n",
              "      <td>1</td>\n",
              "      <td>0</td>\n",
              "      <td>0</td>\n",
              "      <td>0</td>\n",
              "      <td>0</td>\n",
              "      <td>1</td>\n",
              "      <td>0</td>\n",
              "      <td>0</td>\n",
              "      <td>0</td>\n",
              "      <td>0</td>\n",
              "      <td>0</td>\n",
              "      <td>...</td>\n",
              "      <td>0</td>\n",
              "      <td>0</td>\n",
              "      <td>0</td>\n",
              "      <td>0</td>\n",
              "      <td>0</td>\n",
              "      <td>0</td>\n",
              "      <td>0</td>\n",
              "      <td>1</td>\n",
              "      <td>0</td>\n",
              "      <td>0</td>\n",
              "      <td>0</td>\n",
              "      <td>0</td>\n",
              "      <td>4</td>\n",
              "      <td>0</td>\n",
              "      <td>0</td>\n",
              "      <td>0</td>\n",
              "      <td>0</td>\n",
              "      <td>0</td>\n",
              "      <td>0</td>\n",
              "      <td>0</td>\n",
              "      <td>0</td>\n",
              "      <td>0</td>\n",
              "      <td>0</td>\n",
              "      <td>0</td>\n",
              "      <td>0</td>\n",
              "      <td>0</td>\n",
              "      <td>0</td>\n",
              "      <td>0</td>\n",
              "      <td>0</td>\n",
              "      <td>0</td>\n",
              "      <td>0</td>\n",
              "      <td>0</td>\n",
              "      <td>0</td>\n",
              "      <td>0</td>\n",
              "      <td>0</td>\n",
              "      <td>0</td>\n",
              "      <td>0</td>\n",
              "      <td>0</td>\n",
              "      <td>0</td>\n",
              "      <td>0</td>\n",
              "    </tr>\n",
              "    <tr>\n",
              "      <th>2</th>\n",
              "      <td>0</td>\n",
              "      <td>0</td>\n",
              "      <td>0</td>\n",
              "      <td>0</td>\n",
              "      <td>0</td>\n",
              "      <td>0</td>\n",
              "      <td>0</td>\n",
              "      <td>2</td>\n",
              "      <td>0</td>\n",
              "      <td>0</td>\n",
              "      <td>0</td>\n",
              "      <td>0</td>\n",
              "      <td>0</td>\n",
              "      <td>0</td>\n",
              "      <td>0</td>\n",
              "      <td>0</td>\n",
              "      <td>0</td>\n",
              "      <td>0</td>\n",
              "      <td>0</td>\n",
              "      <td>0</td>\n",
              "      <td>2</td>\n",
              "      <td>0</td>\n",
              "      <td>0</td>\n",
              "      <td>0</td>\n",
              "      <td>0</td>\n",
              "      <td>0</td>\n",
              "      <td>0</td>\n",
              "      <td>0</td>\n",
              "      <td>0</td>\n",
              "      <td>1</td>\n",
              "      <td>0</td>\n",
              "      <td>0</td>\n",
              "      <td>0</td>\n",
              "      <td>0</td>\n",
              "      <td>1</td>\n",
              "      <td>0</td>\n",
              "      <td>0</td>\n",
              "      <td>0</td>\n",
              "      <td>0</td>\n",
              "      <td>0</td>\n",
              "      <td>...</td>\n",
              "      <td>0</td>\n",
              "      <td>0</td>\n",
              "      <td>0</td>\n",
              "      <td>0</td>\n",
              "      <td>0</td>\n",
              "      <td>0</td>\n",
              "      <td>0</td>\n",
              "      <td>1</td>\n",
              "      <td>0</td>\n",
              "      <td>0</td>\n",
              "      <td>0</td>\n",
              "      <td>0</td>\n",
              "      <td>4</td>\n",
              "      <td>0</td>\n",
              "      <td>0</td>\n",
              "      <td>0</td>\n",
              "      <td>0</td>\n",
              "      <td>0</td>\n",
              "      <td>0</td>\n",
              "      <td>0</td>\n",
              "      <td>0</td>\n",
              "      <td>0</td>\n",
              "      <td>0</td>\n",
              "      <td>0</td>\n",
              "      <td>0</td>\n",
              "      <td>0</td>\n",
              "      <td>0</td>\n",
              "      <td>0</td>\n",
              "      <td>0</td>\n",
              "      <td>0</td>\n",
              "      <td>0</td>\n",
              "      <td>0</td>\n",
              "      <td>0</td>\n",
              "      <td>0</td>\n",
              "      <td>0</td>\n",
              "      <td>0</td>\n",
              "      <td>0</td>\n",
              "      <td>0</td>\n",
              "      <td>0</td>\n",
              "      <td>0</td>\n",
              "    </tr>\n",
              "    <tr>\n",
              "      <th>3</th>\n",
              "      <td>0</td>\n",
              "      <td>0</td>\n",
              "      <td>0</td>\n",
              "      <td>0</td>\n",
              "      <td>0</td>\n",
              "      <td>0</td>\n",
              "      <td>0</td>\n",
              "      <td>2</td>\n",
              "      <td>0</td>\n",
              "      <td>0</td>\n",
              "      <td>0</td>\n",
              "      <td>0</td>\n",
              "      <td>0</td>\n",
              "      <td>0</td>\n",
              "      <td>0</td>\n",
              "      <td>0</td>\n",
              "      <td>0</td>\n",
              "      <td>0</td>\n",
              "      <td>0</td>\n",
              "      <td>0</td>\n",
              "      <td>2</td>\n",
              "      <td>0</td>\n",
              "      <td>0</td>\n",
              "      <td>0</td>\n",
              "      <td>0</td>\n",
              "      <td>0</td>\n",
              "      <td>0</td>\n",
              "      <td>0</td>\n",
              "      <td>0</td>\n",
              "      <td>1</td>\n",
              "      <td>0</td>\n",
              "      <td>0</td>\n",
              "      <td>0</td>\n",
              "      <td>0</td>\n",
              "      <td>1</td>\n",
              "      <td>0</td>\n",
              "      <td>0</td>\n",
              "      <td>0</td>\n",
              "      <td>0</td>\n",
              "      <td>0</td>\n",
              "      <td>...</td>\n",
              "      <td>0</td>\n",
              "      <td>0</td>\n",
              "      <td>0</td>\n",
              "      <td>0</td>\n",
              "      <td>0</td>\n",
              "      <td>0</td>\n",
              "      <td>0</td>\n",
              "      <td>1</td>\n",
              "      <td>0</td>\n",
              "      <td>0</td>\n",
              "      <td>0</td>\n",
              "      <td>0</td>\n",
              "      <td>4</td>\n",
              "      <td>0</td>\n",
              "      <td>0</td>\n",
              "      <td>0</td>\n",
              "      <td>0</td>\n",
              "      <td>0</td>\n",
              "      <td>0</td>\n",
              "      <td>0</td>\n",
              "      <td>0</td>\n",
              "      <td>0</td>\n",
              "      <td>0</td>\n",
              "      <td>0</td>\n",
              "      <td>0</td>\n",
              "      <td>0</td>\n",
              "      <td>0</td>\n",
              "      <td>0</td>\n",
              "      <td>0</td>\n",
              "      <td>0</td>\n",
              "      <td>0</td>\n",
              "      <td>0</td>\n",
              "      <td>0</td>\n",
              "      <td>0</td>\n",
              "      <td>0</td>\n",
              "      <td>0</td>\n",
              "      <td>0</td>\n",
              "      <td>0</td>\n",
              "      <td>0</td>\n",
              "      <td>0</td>\n",
              "    </tr>\n",
              "    <tr>\n",
              "      <th>4</th>\n",
              "      <td>0</td>\n",
              "      <td>0</td>\n",
              "      <td>0</td>\n",
              "      <td>0</td>\n",
              "      <td>0</td>\n",
              "      <td>0</td>\n",
              "      <td>0</td>\n",
              "      <td>2</td>\n",
              "      <td>0</td>\n",
              "      <td>0</td>\n",
              "      <td>0</td>\n",
              "      <td>0</td>\n",
              "      <td>0</td>\n",
              "      <td>0</td>\n",
              "      <td>0</td>\n",
              "      <td>0</td>\n",
              "      <td>0</td>\n",
              "      <td>0</td>\n",
              "      <td>0</td>\n",
              "      <td>0</td>\n",
              "      <td>2</td>\n",
              "      <td>0</td>\n",
              "      <td>0</td>\n",
              "      <td>0</td>\n",
              "      <td>0</td>\n",
              "      <td>0</td>\n",
              "      <td>0</td>\n",
              "      <td>0</td>\n",
              "      <td>0</td>\n",
              "      <td>1</td>\n",
              "      <td>0</td>\n",
              "      <td>0</td>\n",
              "      <td>0</td>\n",
              "      <td>0</td>\n",
              "      <td>1</td>\n",
              "      <td>0</td>\n",
              "      <td>0</td>\n",
              "      <td>0</td>\n",
              "      <td>0</td>\n",
              "      <td>0</td>\n",
              "      <td>...</td>\n",
              "      <td>0</td>\n",
              "      <td>0</td>\n",
              "      <td>0</td>\n",
              "      <td>0</td>\n",
              "      <td>0</td>\n",
              "      <td>0</td>\n",
              "      <td>0</td>\n",
              "      <td>1</td>\n",
              "      <td>0</td>\n",
              "      <td>0</td>\n",
              "      <td>0</td>\n",
              "      <td>0</td>\n",
              "      <td>4</td>\n",
              "      <td>0</td>\n",
              "      <td>0</td>\n",
              "      <td>0</td>\n",
              "      <td>0</td>\n",
              "      <td>0</td>\n",
              "      <td>0</td>\n",
              "      <td>0</td>\n",
              "      <td>0</td>\n",
              "      <td>0</td>\n",
              "      <td>0</td>\n",
              "      <td>0</td>\n",
              "      <td>0</td>\n",
              "      <td>0</td>\n",
              "      <td>0</td>\n",
              "      <td>0</td>\n",
              "      <td>0</td>\n",
              "      <td>0</td>\n",
              "      <td>0</td>\n",
              "      <td>0</td>\n",
              "      <td>0</td>\n",
              "      <td>0</td>\n",
              "      <td>0</td>\n",
              "      <td>0</td>\n",
              "      <td>0</td>\n",
              "      <td>0</td>\n",
              "      <td>0</td>\n",
              "      <td>0</td>\n",
              "    </tr>\n",
              "  </tbody>\n",
              "</table>\n",
              "<p>5 rows × 1500 columns</p>\n",
              "</div>"
            ],
            "text/plain": [
              "   abundant  ac  academic  accent  acceptance  ...  zen  zip  zipcar  zipcars  zone\n",
              "0         0   0         0       0           0  ...    0    0       0        0     0\n",
              "1         0   0         0       0           0  ...    0    0       0        0     0\n",
              "2         0   0         0       0           0  ...    0    0       0        0     0\n",
              "3         0   0         0       0           0  ...    0    0       0        0     0\n",
              "4         0   0         0       0           0  ...    0    0       0        0     0\n",
              "\n",
              "[5 rows x 1500 columns]"
            ]
          },
          "metadata": {
            "tags": []
          },
          "execution_count": 39
        }
      ]
    },
    {
      "cell_type": "code",
      "metadata": {
        "id": "kNuwetmDQw0P",
        "colab_type": "code",
        "colab": {}
      },
      "source": [
        "#setting target variable and independent variables and splitting dataset for NLP model\n",
        "y = pd.to_numeric(df['Avg_Rent'])\n",
        "X = pd.concat([amenities.reset_index(drop = True), df['Bedrooms'].reset_index(drop = True)], axis = 1, sort = False)\n",
        "\n",
        "X_train, X_test, y_train, y_test = train_test_split(X, y, test_size = 0.2, random_state = 24)"
      ],
      "execution_count": 40,
      "outputs": []
    },
    {
      "cell_type": "code",
      "metadata": {
        "id": "Idrz0NCAHXuP",
        "colab_type": "code",
        "colab": {}
      },
      "source": [
        "# choosing to use random forest regression model because it's easy to see feature importances\n",
        "rf = RandomForestRegressor(n_estimators = 100)\n",
        "\n",
        "rf.fit(X_train, y_train)\n",
        "pred = rf.predict(X_test)"
      ],
      "execution_count": 41,
      "outputs": []
    },
    {
      "cell_type": "code",
      "metadata": {
        "id": "qbvgQgZ9DBTy",
        "colab_type": "code",
        "colab": {
          "base_uri": "https://localhost:8080/",
          "height": 51
        },
        "outputId": "521bc3f5-412a-4192-ca5a-b0c729445d51"
      },
      "source": [
        "#calculating root mean squared error \n",
        "print('Random Forest Root Mean Squared Error:', np.sqrt(mean_squared_error(y_test, pred)))\n",
        "\n",
        "#calulating R**2 score\n",
        "print('Random Forest R**2 Score:', r2_score(y_test, pred))"
      ],
      "execution_count": 42,
      "outputs": [
        {
          "output_type": "stream",
          "text": [
            "Random Forest Root Mean Squared Error: 772.8892610195145\n",
            "Random Forest R**2 Score: 0.7021037067200724\n"
          ],
          "name": "stdout"
        }
      ]
    },
    {
      "cell_type": "code",
      "metadata": {
        "id": "atPW2_9mDF-3",
        "colab_type": "code",
        "colab": {
          "base_uri": "https://localhost:8080/",
          "height": 621
        },
        "outputId": "d8ba7add-2012-4c75-ece1-811982339297"
      },
      "source": [
        "# visualizing distribution of predicted values vs actual values for rent\n",
        "plt.figure(figsize = (12,10))\n",
        "\n",
        "ax1 = sns.distplot(y_test, hist = False, color = 'r', label = 'Actual Values')\n",
        "ax2 = sns.distplot(pred, hist = False, color = 'b', label = 'Predicted Values')\n",
        "\n",
        "\n",
        "\n",
        "plt.title('Distribution of Predicted Values vs Actual Values for Rent Price')\n",
        "plt.xlabel('Rent Price (in dollars)')\n",
        "plt.ylabel('Proportion of Apartments')\n",
        "\n",
        "plt.show()\n",
        "plt.close()"
      ],
      "execution_count": 43,
      "outputs": [
        {
          "output_type": "display_data",
          "data": {
            "image/png": "[encoded data removed]",
            "text/plain": [
              "<Figure size 864x720 with 1 Axes>"
            ]
          },
          "metadata": {
            "tags": [],
            "needs_background": "light"
          }
        }
      ]
    },
    {
      "cell_type": "code",
      "metadata": {
        "id": "An_QreyXG2zc",
        "colab_type": "code",
        "colab": {}
      },
      "source": [
        "#getting feature importances\n",
        "feature_importances = ({'Name':[],\n",
        "                        'Score':[]})\n",
        "\n",
        "for name, score in zip(X.columns, rf.feature_importances_):\n",
        "  feature_importances['Name'].append(name)\n",
        "  feature_importances['Score'].append(score)\n",
        "\n",
        "feature_importances = pd.DataFrame(feature_importances).sort_values(['Score'], ascending = False)"
      ],
      "execution_count": 44,
      "outputs": []
    },
    {
      "cell_type": "code",
      "metadata": {
        "id": "WAP_aFWfKD7f",
        "colab_type": "code",
        "colab": {
          "base_uri": "https://localhost:8080/",
          "height": 730
        },
        "outputId": "103a42a8-20a9-4054-e135-a9403a5d1a1c"
      },
      "source": [
        "#plotting feature importances\n",
        "f, ax = plt.subplots(figsize = (18,12))\n",
        "sns.barplot(x = 'Score', y = 'Name', data = feature_importances.head(50), orient = \"h\")\n",
        "plt.title('Bag of Words Model Feature Importances')\n",
        "plt.show()"
      ],
      "execution_count": 45,
      "outputs": [
        {
          "output_type": "display_data",
          "data": {
            "image/png": "[encoded data removed]",
            "text/plain": [
              "<Figure size 1296x864 with 1 Axes>"
            ]
          },
          "metadata": {
            "tags": [],
            "needs_background": "light"
          }
        }
      ]
    },
    {
      "cell_type": "markdown",
      "metadata": {
        "id": "iTJMZCKqNJL-",
        "colab_type": "text"
      },
      "source": [
        "#Extracting Features from Amenities Column\n",
        "Used insight gained from NLP model to extract new features from the amenities column"
      ]
    },
    {
      "cell_type": "code",
      "metadata": {
        "id": "a85tqfqbAtNN",
        "colab_type": "code",
        "colab": {
          "base_uri": "https://localhost:8080/",
          "height": 68
        },
        "outputId": "c7f75ccc-4cae-4d52-f672-206a76c271dc"
      },
      "source": [
        "#whether the unit has Bosch appliances\n",
        "df['Bosch_Appliances'] = df.Amenities.apply(lambda x: 1 if 'bosch' in x.lower() else 0 )\n",
        "df.Bosch_Appliances.value_counts()"
      ],
      "execution_count": 50,
      "outputs": [
        {
          "output_type": "execute_result",
          "data": {
            "text/plain": [
              "0    7772\n",
              "1     342\n",
              "Name: Bosch_Appliances, dtype: int64"
            ]
          },
          "metadata": {
            "tags": []
          },
          "execution_count": 50
        }
      ]
    },
    {
      "cell_type": "code",
      "metadata": {
        "id": "lwYIeAuZEYXD",
        "colab_type": "code",
        "colab": {
          "base_uri": "https://localhost:8080/",
          "height": 68
        },
        "outputId": "5847a8e2-b209-4522-e9b6-29d4ffb80f96"
      },
      "source": [
        "#whether the unit has stainless steel appliances\n",
        "df['Stainless_Steel_App'] = df.Amenities.apply(lambda x: 1 if 'stainless steel appliances' in x.lower()\n",
        "                                                              or 'appliances stainless' in x.lower()\n",
        "                                                              or 'stainless-steel appliances' in x.lower()\n",
        "                                                              else 0)\n",
        "df.Stainless_Steel_App.value_counts()"
      ],
      "execution_count": 51,
      "outputs": [
        {
          "output_type": "execute_result",
          "data": {
            "text/plain": [
              "0    4431\n",
              "1    3683\n",
              "Name: Stainless_Steel_App, dtype: int64"
            ]
          },
          "metadata": {
            "tags": []
          },
          "execution_count": 51
        }
      ]
    },
    {
      "cell_type": "code",
      "metadata": {
        "id": "ByZ44bpRL0lH",
        "colab_type": "code",
        "colab": {
          "base_uri": "https://localhost:8080/",
          "height": 68
        },
        "outputId": "dda93e3a-ae03-491d-df17-9e89c27904f1"
      },
      "source": [
        "#whether the unit comes with a refrigerator\n",
        "df['Refrigerator'] = df.Amenities.apply(lambda x: 1 if 'refrigerator' in x.lower() or 'fridge' in x.lower() else 0)\n",
        "df.Refrigerator.value_counts()"
      ],
      "execution_count": 52,
      "outputs": [
        {
          "output_type": "execute_result",
          "data": {
            "text/plain": [
              "1    4735\n",
              "0    3379\n",
              "Name: Refrigerator, dtype: int64"
            ]
          },
          "metadata": {
            "tags": []
          },
          "execution_count": 52
        }
      ]
    },
    {
      "cell_type": "code",
      "metadata": {
        "id": "EvyYuFdYHZQP",
        "colab_type": "code",
        "colab": {
          "base_uri": "https://localhost:8080/",
          "height": 68
        },
        "outputId": "5be4e6b9-e8f3-4b55-a63e-0846882e5f5d"
      },
      "source": [
        "#whether the unit has a dishwasher\n",
        "df['Dishwasher'] = df.Amenities.apply(lambda x: 1 if 'dishwasher' in x.lower() else 0)\n",
        "df.Dishwasher.value_counts()"
      ],
      "execution_count": 53,
      "outputs": [
        {
          "output_type": "execute_result",
          "data": {
            "text/plain": [
              "1    5467\n",
              "0    2647\n",
              "Name: Dishwasher, dtype: int64"
            ]
          },
          "metadata": {
            "tags": []
          },
          "execution_count": 53
        }
      ]
    },
    {
      "cell_type": "code",
      "metadata": {
        "id": "rj70oDR3HZst",
        "colab_type": "code",
        "colab": {
          "base_uri": "https://localhost:8080/",
          "height": 68
        },
        "outputId": "a81d5ef2-cef1-4d68-97db-60523f03aea9"
      },
      "source": [
        "#whether the unit comes with a microwave\n",
        "df['Microwave'] = df.Amenities.apply(lambda x: 1 if 'microwave' in x.lower() else 0)\n",
        "df.Microwave.value_counts()"
      ],
      "execution_count": 54,
      "outputs": [
        {
          "output_type": "execute_result",
          "data": {
            "text/plain": [
              "1    4323\n",
              "0    3791\n",
              "Name: Microwave, dtype: int64"
            ]
          },
          "metadata": {
            "tags": []
          },
          "execution_count": 54
        }
      ]
    },
    {
      "cell_type": "code",
      "metadata": {
        "id": "I-cRnSJ_BOI-",
        "colab_type": "code",
        "colab": {
          "base_uri": "https://localhost:8080/",
          "height": 68
        },
        "outputId": "61e13903-4c7b-4d1a-ce9e-4992b39a6c79"
      },
      "source": [
        "#whether or not laundry is mentioned in the list of amenities\n",
        "df['Laundry'] = df.Amenities.apply(lambda x: 1 if 'laundry' in x.lower() or 'washer' in x.lower() or 'dryer' in x.lower() else 0)\n",
        "df.Laundry.value_counts()"
      ],
      "execution_count": 55,
      "outputs": [
        {
          "output_type": "execute_result",
          "data": {
            "text/plain": [
              "1    7367\n",
              "0     747\n",
              "Name: Laundry, dtype: int64"
            ]
          },
          "metadata": {
            "tags": []
          },
          "execution_count": 55
        }
      ]
    },
    {
      "cell_type": "code",
      "metadata": {
        "id": "2usQoduEBvUE",
        "colab_type": "code",
        "colab": {
          "base_uri": "https://localhost:8080/",
          "height": 68
        },
        "outputId": "c10e5dc0-4be5-4a1f-8b02-ac44d215e41e"
      },
      "source": [
        "#whether or not there is a washer and dryer in the unit\n",
        "df['Washer/Dryer_in_unit'] = df.Amenities.apply(lambda x: 1 if 'washer/dryer - in unit' in x.lower() \n",
        "                                                                or 'washer/dryer in unit' in x.lower() \n",
        "                                                                or 'washer and dryer in unit' in x.lower()\n",
        "                                                                or 'in home washer/dryer' in x.lower()\n",
        "                                                                or 'in home washer and dryer' in x.lower()\n",
        "                                                                or 'in home full-size washer and dryer' in x.lower()\n",
        "                                                                else 0)\n",
        "df['Washer/Dryer_in_unit'].value_counts()"
      ],
      "execution_count": 56,
      "outputs": [
        {
          "output_type": "execute_result",
          "data": {
            "text/plain": [
              "1    4545\n",
              "0    3569\n",
              "Name: Washer/Dryer_in_unit, dtype: int64"
            ]
          },
          "metadata": {
            "tags": []
          },
          "execution_count": 56
        }
      ]
    },
    {
      "cell_type": "code",
      "metadata": {
        "id": "quGpyl-DIgCe",
        "colab_type": "code",
        "colab": {
          "base_uri": "https://localhost:8080/",
          "height": 68
        },
        "outputId": "5e20cf4c-b1e9-400f-e701-a367c2aa95ff"
      },
      "source": [
        "#whether the unit or apt complex has a terrace\n",
        "df['Terrace'] = df.Amenities.apply(lambda x: 1 if 'terrace' in x.lower() else 0)\n",
        "df.Terrace.value_counts()"
      ],
      "execution_count": 57,
      "outputs": [
        {
          "output_type": "execute_result",
          "data": {
            "text/plain": [
              "0    5389\n",
              "1    2725\n",
              "Name: Terrace, dtype: int64"
            ]
          },
          "metadata": {
            "tags": []
          },
          "execution_count": 57
        }
      ]
    },
    {
      "cell_type": "code",
      "metadata": {
        "id": "56VHQklYIxWV",
        "colab_type": "code",
        "colab": {
          "base_uri": "https://localhost:8080/",
          "height": 68
        },
        "outputId": "5a971f41-9caf-4ed7-e387-7f137ecf7549"
      },
      "source": [
        "#whether the unit has a balcony\n",
        "df['Balcony'] = df.Amenities.apply(lambda x: 1 if 'balcony' in x.lower() else 0)\n",
        "df.Balcony.value_counts()"
      ],
      "execution_count": 58,
      "outputs": [
        {
          "output_type": "execute_result",
          "data": {
            "text/plain": [
              "1    4642\n",
              "0    3472\n",
              "Name: Balcony, dtype: int64"
            ]
          },
          "metadata": {
            "tags": []
          },
          "execution_count": 58
        }
      ]
    },
    {
      "cell_type": "code",
      "metadata": {
        "id": "0Rxo56WLI-pg",
        "colab_type": "code",
        "colab": {
          "base_uri": "https://localhost:8080/",
          "height": 68
        },
        "outputId": "8252a59c-affe-49a9-847f-905d9736488e"
      },
      "source": [
        "#whether or not the unit has vaulted ceilings\n",
        "df['Vaulted_Ceilings'] = df.Amenities.apply(lambda x: 1 if 'vaulted ceiling' in x.lower() else 0)\n",
        "df.Vaulted_Ceilings.value_counts()"
      ],
      "execution_count": 59,
      "outputs": [
        {
          "output_type": "execute_result",
          "data": {
            "text/plain": [
              "0    6557\n",
              "1    1557\n",
              "Name: Vaulted_Ceilings, dtype: int64"
            ]
          },
          "metadata": {
            "tags": []
          },
          "execution_count": 59
        }
      ]
    },
    {
      "cell_type": "code",
      "metadata": {
        "id": "1hpKDHfbJOCZ",
        "colab_type": "code",
        "colab": {
          "base_uri": "https://localhost:8080/",
          "height": 68
        },
        "outputId": "5718929b-e30a-4768-8350-712460fb07ab"
      },
      "source": [
        "#whether the unit or apt complex has a garden\n",
        "df['Garden'] = df.Amenities.apply(lambda x: 1 if 'garden' in x.lower() else 0)\n",
        "df.Garden.value_counts()"
      ],
      "execution_count": 60,
      "outputs": [
        {
          "output_type": "execute_result",
          "data": {
            "text/plain": [
              "0    7065\n",
              "1    1049\n",
              "Name: Garden, dtype: int64"
            ]
          },
          "metadata": {
            "tags": []
          },
          "execution_count": 60
        }
      ]
    },
    {
      "cell_type": "code",
      "metadata": {
        "id": "7Ek-gI2kIT2i",
        "colab_type": "code",
        "colab": {
          "base_uri": "https://localhost:8080/",
          "height": 68
        },
        "outputId": "a3fffe78-0f20-4e03-bd9c-3537194eac9f"
      },
      "source": [
        "#whether or not the apt is a penthouse\n",
        "df['Penthouse'] = df.Amenities.apply(lambda x: 1 if 'penthouse' in x.lower() else 0)\n",
        "df.Penthouse.value_counts()"
      ],
      "execution_count": 61,
      "outputs": [
        {
          "output_type": "execute_result",
          "data": {
            "text/plain": [
              "0    7473\n",
              "1     641\n",
              "Name: Penthouse, dtype: int64"
            ]
          },
          "metadata": {
            "tags": []
          },
          "execution_count": 61
        }
      ]
    },
    {
      "cell_type": "code",
      "metadata": {
        "id": "QbyGbbLBBHKk",
        "colab_type": "code",
        "colab": {
          "base_uri": "https://localhost:8080/",
          "height": 68
        },
        "outputId": "3cc4ad9f-799c-4db3-fe97-73b770b6f04e"
      },
      "source": [
        "#whether or not apartment complex has a concierge\n",
        "df['Concierge'] = df.Amenities.apply(lambda x: 1 if 'concierge' in x.lower() else 0) \n",
        "df.Concierge.value_counts()"
      ],
      "execution_count": 62,
      "outputs": [
        {
          "output_type": "execute_result",
          "data": {
            "text/plain": [
              "0    6098\n",
              "1    2016\n",
              "Name: Concierge, dtype: int64"
            ]
          },
          "metadata": {
            "tags": []
          },
          "execution_count": 62
        }
      ]
    },
    {
      "cell_type": "code",
      "metadata": {
        "id": "MIqY-M26FGCC",
        "colab_type": "code",
        "colab": {
          "base_uri": "https://localhost:8080/",
          "height": 68
        },
        "outputId": "0ed94d4f-1f12-48d2-90d6-dcc46b4e1a79"
      },
      "source": [
        "#whether or not apartment complex has a lounge\n",
        "df['Lounge'] = df.Amenities.apply(lambda x: 1 if 'lounge' in x.lower() or 'game room' in x.lower() or 'clubhouse' in x.lower() else 0)\n",
        "df.Lounge.value_counts()"
      ],
      "execution_count": 63,
      "outputs": [
        {
          "output_type": "execute_result",
          "data": {
            "text/plain": [
              "1    5543\n",
              "0    2571\n",
              "Name: Lounge, dtype: int64"
            ]
          },
          "metadata": {
            "tags": []
          },
          "execution_count": 63
        }
      ]
    },
    {
      "cell_type": "code",
      "metadata": {
        "id": "FFB7G9BfFP_X",
        "colab_type": "code",
        "colab": {
          "base_uri": "https://localhost:8080/",
          "height": 70
        },
        "outputId": "30eed258-2f21-4664-a4bc-20af5b4c79e8"
      },
      "source": [
        "#whether or not apt/house has air conditioning\n",
        "df['A/C'] = df.Amenities.apply(lambda x: 1 if 'air conditioning' in x.lower() or 'a/c' in x.lower() else 0) \n",
        "df['A/C'].value_counts()"
      ],
      "execution_count": 64,
      "outputs": [
        {
          "output_type": "execute_result",
          "data": {
            "text/plain": [
              "0    4616\n",
              "1    3498\n",
              "Name: A/C, dtype: int64"
            ]
          },
          "metadata": {
            "tags": []
          },
          "execution_count": 64
        }
      ]
    },
    {
      "cell_type": "code",
      "metadata": {
        "id": "2Hr0eP18Fmqq",
        "colab_type": "code",
        "colab": {
          "base_uri": "https://localhost:8080/",
          "height": 68
        },
        "outputId": "4c8c7707-f903-494f-8055-4cedb8b769bf"
      },
      "source": [
        "#whether or not the apartment complex is smoke free\n",
        "df['Smoke_Free'] = df.Amenities.apply(lambda x: 1 if 'smoke free' in x.lower() or 'no smoking' in x.lower() else 0)\n",
        "df.Smoke_Free.value_counts()"
      ],
      "execution_count": 65,
      "outputs": [
        {
          "output_type": "execute_result",
          "data": {
            "text/plain": [
              "0    4227\n",
              "1    3887\n",
              "Name: Smoke_Free, dtype: int64"
            ]
          },
          "metadata": {
            "tags": []
          },
          "execution_count": 65
        }
      ]
    },
    {
      "cell_type": "code",
      "metadata": {
        "id": "_BiBheUDGD6w",
        "colab_type": "code",
        "colab": {
          "base_uri": "https://localhost:8080/",
          "height": 70
        },
        "outputId": "1c28a546-0633-4fbf-fb4b-9f7ca008adaa"
      },
      "source": [
        "#whether or not the apartment complex allows pets\n",
        "df['Pets_Allowed'] = df.Amenities.apply(lambda x: 1 if ('pets allowed' in x.lower() or 'pets welcome' in x.lower() or 'dogs allowed' in x.lower() or 'cats allowed' in x.lower()) \n",
        "                                                    and ('no pets allowed' not in x.lower() and 'no dogs allowed' not in x.lower() and 'no cats allowed' not in x.lower()) \n",
        "                                                    else 0)\n",
        "df.Pets_Allowed.value_counts()"
      ],
      "execution_count": 66,
      "outputs": [
        {
          "output_type": "execute_result",
          "data": {
            "text/plain": [
              "0    7226\n",
              "1     888\n",
              "Name: Pets_Allowed, dtype: int64"
            ]
          },
          "metadata": {
            "tags": []
          },
          "execution_count": 66
        }
      ]
    },
    {
      "cell_type": "code",
      "metadata": {
        "id": "KfhdKQq-GVbU",
        "colab_type": "code",
        "colab": {
          "base_uri": "https://localhost:8080/",
          "height": 70
        },
        "outputId": "1f6953ef-0ca0-48af-aca3-59d46cbab3ea"
      },
      "source": [
        "#whether or not the apartment complex has a pool\n",
        "df['Pool'] = df.Amenities.apply(lambda x: 1 if 'pool' in x.lower() else 0)\n",
        "df.Pool.value_counts()"
      ],
      "execution_count": 67,
      "outputs": [
        {
          "output_type": "execute_result",
          "data": {
            "text/plain": [
              "1    4210\n",
              "0    3904\n",
              "Name: Pool, dtype: int64"
            ]
          },
          "metadata": {
            "tags": []
          },
          "execution_count": 67
        }
      ]
    },
    {
      "cell_type": "code",
      "metadata": {
        "id": "1GO18Jk9GnFz",
        "colab_type": "code",
        "colab": {
          "base_uri": "https://localhost:8080/",
          "height": 70
        },
        "outputId": "1c131d95-aea7-4dc4-eaed-70ddec0777a2"
      },
      "source": [
        "#whether or not the apartment complex has a gym/fitness center/yoga studio\n",
        "df['Gym'] = df.Amenities.apply(lambda x: 1 if 'gym' in x.lower() or 'fitness center' in x.lower() or 'yoga studio' in x.lower() else 0) \n",
        "df.Gym.value_counts()"
      ],
      "execution_count": 68,
      "outputs": [
        {
          "output_type": "execute_result",
          "data": {
            "text/plain": [
              "1    5603\n",
              "0    2511\n",
              "Name: Gym, dtype: int64"
            ]
          },
          "metadata": {
            "tags": []
          },
          "execution_count": 68
        }
      ]
    },
    {
      "cell_type": "code",
      "metadata": {
        "id": "iOFAUATdG1o8",
        "colab_type": "code",
        "colab": {
          "base_uri": "https://localhost:8080/",
          "height": 70
        },
        "outputId": "8a33b436-4816-4a8d-a92c-07884901f8de"
      },
      "source": [
        "#whether or not the apt/house is in a gated community\n",
        "df['Gated'] = df.Amenities.apply(lambda x: 1 if 'gated' in x.lower() else 0)\n",
        "df.Gated.value_counts()"
      ],
      "execution_count": 69,
      "outputs": [
        {
          "output_type": "execute_result",
          "data": {
            "text/plain": [
              "0    5331\n",
              "1    2783\n",
              "Name: Gated, dtype: int64"
            ]
          },
          "metadata": {
            "tags": []
          },
          "execution_count": 69
        }
      ]
    },
    {
      "cell_type": "code",
      "metadata": {
        "id": "MNlwm7xkG7p-",
        "colab_type": "code",
        "colab": {
          "base_uri": "https://localhost:8080/",
          "height": 70
        },
        "outputId": "a519013a-e965-40e3-cdc1-7e4cb2e8143b"
      },
      "source": [
        "#whether the unit is furnished\n",
        "df['Furnished'] = df.Amenities.apply(lambda x: 1 if 'furnished' in x.lower() else 0)\n",
        "df.Furnished.value_counts()"
      ],
      "execution_count": 70,
      "outputs": [
        {
          "output_type": "execute_result",
          "data": {
            "text/plain": [
              "0    6439\n",
              "1    1675\n",
              "Name: Furnished, dtype: int64"
            ]
          },
          "metadata": {
            "tags": []
          },
          "execution_count": 70
        }
      ]
    },
    {
      "cell_type": "code",
      "metadata": {
        "id": "ZY_u4JXzKCH2",
        "colab_type": "code",
        "colab": {
          "base_uri": "https://localhost:8080/",
          "height": 70
        },
        "outputId": "1c3c7ac5-86a3-43b9-f071-75ca8c62b8fa"
      },
      "source": [
        "#whether the unit/apt complex has a garage\n",
        "df['Garage'] = df.Amenities.apply(lambda x: 1 if 'garage' in x.lower() else 0)\n",
        "df.Garage.value_counts()"
      ],
      "execution_count": 71,
      "outputs": [
        {
          "output_type": "execute_result",
          "data": {
            "text/plain": [
              "0    7140\n",
              "1     974\n",
              "Name: Garage, dtype: int64"
            ]
          },
          "metadata": {
            "tags": []
          },
          "execution_count": 71
        }
      ]
    },
    {
      "cell_type": "code",
      "metadata": {
        "id": "wRjAaExRHD2l",
        "colab_type": "code",
        "colab": {
          "base_uri": "https://localhost:8080/",
          "height": 70
        },
        "outputId": "aafd8c20-e69b-480c-f60f-5826bdde592b"
      },
      "source": [
        "#whether the unit is wheelchair accessible\n",
        "df['Wheelchair_Accessible'] = df.Amenities.apply(lambda x: 1 if 'wheelchair accessible' in x.lower() else 0)\n",
        "df.Wheelchair_Accessible.value_counts()"
      ],
      "execution_count": 72,
      "outputs": [
        {
          "output_type": "execute_result",
          "data": {
            "text/plain": [
              "0    6444\n",
              "1    1670\n",
              "Name: Wheelchair_Accessible, dtype: int64"
            ]
          },
          "metadata": {
            "tags": []
          },
          "execution_count": 72
        }
      ]
    },
    {
      "cell_type": "code",
      "metadata": {
        "id": "Uf5ER8FDNP40",
        "colab_type": "code",
        "colab": {
          "base_uri": "https://localhost:8080/",
          "height": 105
        },
        "outputId": "24bd919f-825e-4545-dd5e-bc6078a41723"
      },
      "source": [
        "#creating features for the type of floor\n",
        "df['Carpet'] = df.Amenities.apply(lambda x: 1 if 'carpet' in x.lower() else 0)\n",
        "df['Wood Floor'] = df.Amenities.apply(lambda x: 1 if 'wood floor' in x.lower() else 0)\n",
        "df['Plank Floor'] = df.Amenities.apply(lambda x: 1 if 'plank floor' in x.lower() else 0)\n",
        "df['Tile Floor'] = df.Amenities.apply(lambda x: 1 if 'tile floor' in x.lower() else 0)\n",
        "\n",
        "df[['Carpet','Wood Floor','Plank Floor','Tile Floor']].sum()"
      ],
      "execution_count": 73,
      "outputs": [
        {
          "output_type": "execute_result",
          "data": {
            "text/plain": [
              "Carpet         2276\n",
              "Wood Floor     3449\n",
              "Plank Floor     844\n",
              "Tile Floor     1012\n",
              "dtype: int64"
            ]
          },
          "metadata": {
            "tags": []
          },
          "execution_count": 73
        }
      ]
    },
    {
      "cell_type": "code",
      "metadata": {
        "id": "xdkD4gAhVAhP",
        "colab_type": "code",
        "colab": {
          "base_uri": "https://localhost:8080/",
          "height": 751
        },
        "outputId": "4984b6ef-06ab-4205-86ad-b24766360253"
      },
      "source": [
        "df.head()"
      ],
      "execution_count": 74,
      "outputs": [
        {
          "output_type": "execute_result",
          "data": {
            "text/html": [
              "<div>\n",
              "<style scoped>\n",
              "    .dataframe tbody tr th:only-of-type {\n",
              "        vertical-align: middle;\n",
              "    }\n",
              "\n",
              "    .dataframe tbody tr th {\n",
              "        vertical-align: top;\n",
              "    }\n",
              "\n",
              "    .dataframe thead th {\n",
              "        text-align: right;\n",
              "    }\n",
              "</style>\n",
              "<table border=\"1\" class=\"dataframe\">\n",
              "  <thead>\n",
              "    <tr style=\"text-align: right;\">\n",
              "      <th></th>\n",
              "      <th>Title</th>\n",
              "      <th>Address</th>\n",
              "      <th>Bedrooms</th>\n",
              "      <th>Bathrooms</th>\n",
              "      <th>Rent</th>\n",
              "      <th>Square Footage</th>\n",
              "      <th>Availability</th>\n",
              "      <th>Amenities</th>\n",
              "      <th>City</th>\n",
              "      <th>Zip_Code</th>\n",
              "      <th>Neighborhood</th>\n",
              "      <th>Avg_Rent</th>\n",
              "      <th>Avg_Sqft</th>\n",
              "      <th>Bosch_Appliances</th>\n",
              "      <th>Stainless_Steel_App</th>\n",
              "      <th>Refrigerator</th>\n",
              "      <th>Dishwasher</th>\n",
              "      <th>Microwave</th>\n",
              "      <th>Laundry</th>\n",
              "      <th>Washer/Dryer_in_unit</th>\n",
              "      <th>Terrace</th>\n",
              "      <th>Balcony</th>\n",
              "      <th>Vaulted_Ceilings</th>\n",
              "      <th>Garden</th>\n",
              "      <th>Penthouse</th>\n",
              "      <th>Concierge</th>\n",
              "      <th>Lounge</th>\n",
              "      <th>A/C</th>\n",
              "      <th>Smoke_Free</th>\n",
              "      <th>Pets_Allowed</th>\n",
              "      <th>Pool</th>\n",
              "      <th>Gym</th>\n",
              "      <th>Gated</th>\n",
              "      <th>Furnished</th>\n",
              "      <th>Garage</th>\n",
              "      <th>Wheelchair_Accessible</th>\n",
              "      <th>Carpet</th>\n",
              "      <th>Wood Floor</th>\n",
              "      <th>Plank Floor</th>\n",
              "      <th>Tile Floor</th>\n",
              "    </tr>\n",
              "  </thead>\n",
              "  <tbody>\n",
              "    <tr>\n",
              "      <th>0</th>\n",
              "      <td>Amelia</td>\n",
              "      <td>411 29th St, Oakland, CA 94609 â€“ Pill Hill</td>\n",
              "      <td>1</td>\n",
              "      <td>1.0</td>\n",
              "      <td>2875 - 2995</td>\n",
              "      <td>502</td>\n",
              "      <td>Available Now</td>\n",
              "      <td>100% Smoke Free Community, Air Conditioning, B...</td>\n",
              "      <td>Oakland</td>\n",
              "      <td>94609</td>\n",
              "      <td>Pill Hill</td>\n",
              "      <td>2935</td>\n",
              "      <td>502.0</td>\n",
              "      <td>0</td>\n",
              "      <td>1</td>\n",
              "      <td>1</td>\n",
              "      <td>1</td>\n",
              "      <td>1</td>\n",
              "      <td>1</td>\n",
              "      <td>1</td>\n",
              "      <td>1</td>\n",
              "      <td>0</td>\n",
              "      <td>0</td>\n",
              "      <td>0</td>\n",
              "      <td>0</td>\n",
              "      <td>0</td>\n",
              "      <td>1</td>\n",
              "      <td>1</td>\n",
              "      <td>1</td>\n",
              "      <td>1</td>\n",
              "      <td>0</td>\n",
              "      <td>0</td>\n",
              "      <td>0</td>\n",
              "      <td>0</td>\n",
              "      <td>0</td>\n",
              "      <td>0</td>\n",
              "      <td>0</td>\n",
              "      <td>1</td>\n",
              "      <td>1</td>\n",
              "      <td>0</td>\n",
              "    </tr>\n",
              "    <tr>\n",
              "      <th>1</th>\n",
              "      <td>Amelia</td>\n",
              "      <td>411 29th St, Oakland, CA 94609 â€“ Pill Hill</td>\n",
              "      <td>1</td>\n",
              "      <td>1.0</td>\n",
              "      <td>2875</td>\n",
              "      <td>502</td>\n",
              "      <td>Available Now</td>\n",
              "      <td>100% Smoke Free Community, Air Conditioning, B...</td>\n",
              "      <td>Oakland</td>\n",
              "      <td>94609</td>\n",
              "      <td>Pill Hill</td>\n",
              "      <td>2875</td>\n",
              "      <td>502.0</td>\n",
              "      <td>0</td>\n",
              "      <td>1</td>\n",
              "      <td>1</td>\n",
              "      <td>1</td>\n",
              "      <td>1</td>\n",
              "      <td>1</td>\n",
              "      <td>1</td>\n",
              "      <td>1</td>\n",
              "      <td>0</td>\n",
              "      <td>0</td>\n",
              "      <td>0</td>\n",
              "      <td>0</td>\n",
              "      <td>0</td>\n",
              "      <td>1</td>\n",
              "      <td>1</td>\n",
              "      <td>1</td>\n",
              "      <td>1</td>\n",
              "      <td>0</td>\n",
              "      <td>0</td>\n",
              "      <td>0</td>\n",
              "      <td>0</td>\n",
              "      <td>0</td>\n",
              "      <td>0</td>\n",
              "      <td>0</td>\n",
              "      <td>1</td>\n",
              "      <td>1</td>\n",
              "      <td>0</td>\n",
              "    </tr>\n",
              "    <tr>\n",
              "      <th>2</th>\n",
              "      <td>Amelia</td>\n",
              "      <td>411 29th St, Oakland, CA 94609 â€“ Pill Hill</td>\n",
              "      <td>1</td>\n",
              "      <td>1.0</td>\n",
              "      <td>2875</td>\n",
              "      <td>502</td>\n",
              "      <td>Available Now</td>\n",
              "      <td>100% Smoke Free Community, Air Conditioning, B...</td>\n",
              "      <td>Oakland</td>\n",
              "      <td>94609</td>\n",
              "      <td>Pill Hill</td>\n",
              "      <td>2875</td>\n",
              "      <td>502.0</td>\n",
              "      <td>0</td>\n",
              "      <td>1</td>\n",
              "      <td>1</td>\n",
              "      <td>1</td>\n",
              "      <td>1</td>\n",
              "      <td>1</td>\n",
              "      <td>1</td>\n",
              "      <td>1</td>\n",
              "      <td>0</td>\n",
              "      <td>0</td>\n",
              "      <td>0</td>\n",
              "      <td>0</td>\n",
              "      <td>0</td>\n",
              "      <td>1</td>\n",
              "      <td>1</td>\n",
              "      <td>1</td>\n",
              "      <td>1</td>\n",
              "      <td>0</td>\n",
              "      <td>0</td>\n",
              "      <td>0</td>\n",
              "      <td>0</td>\n",
              "      <td>0</td>\n",
              "      <td>0</td>\n",
              "      <td>0</td>\n",
              "      <td>1</td>\n",
              "      <td>1</td>\n",
              "      <td>0</td>\n",
              "    </tr>\n",
              "    <tr>\n",
              "      <th>3</th>\n",
              "      <td>Amelia</td>\n",
              "      <td>411 29th St, Oakland, CA 94609 â€“ Pill Hill</td>\n",
              "      <td>1</td>\n",
              "      <td>1.0</td>\n",
              "      <td>2875</td>\n",
              "      <td>502</td>\n",
              "      <td>Available Now</td>\n",
              "      <td>100% Smoke Free Community, Air Conditioning, B...</td>\n",
              "      <td>Oakland</td>\n",
              "      <td>94609</td>\n",
              "      <td>Pill Hill</td>\n",
              "      <td>2875</td>\n",
              "      <td>502.0</td>\n",
              "      <td>0</td>\n",
              "      <td>1</td>\n",
              "      <td>1</td>\n",
              "      <td>1</td>\n",
              "      <td>1</td>\n",
              "      <td>1</td>\n",
              "      <td>1</td>\n",
              "      <td>1</td>\n",
              "      <td>0</td>\n",
              "      <td>0</td>\n",
              "      <td>0</td>\n",
              "      <td>0</td>\n",
              "      <td>0</td>\n",
              "      <td>1</td>\n",
              "      <td>1</td>\n",
              "      <td>1</td>\n",
              "      <td>1</td>\n",
              "      <td>0</td>\n",
              "      <td>0</td>\n",
              "      <td>0</td>\n",
              "      <td>0</td>\n",
              "      <td>0</td>\n",
              "      <td>0</td>\n",
              "      <td>0</td>\n",
              "      <td>1</td>\n",
              "      <td>1</td>\n",
              "      <td>0</td>\n",
              "    </tr>\n",
              "    <tr>\n",
              "      <th>4</th>\n",
              "      <td>Amelia</td>\n",
              "      <td>411 29th St, Oakland, CA 94609 â€“ Pill Hill</td>\n",
              "      <td>1</td>\n",
              "      <td>1.0</td>\n",
              "      <td>2875</td>\n",
              "      <td>502</td>\n",
              "      <td>Available Now</td>\n",
              "      <td>100% Smoke Free Community, Air Conditioning, B...</td>\n",
              "      <td>Oakland</td>\n",
              "      <td>94609</td>\n",
              "      <td>Pill Hill</td>\n",
              "      <td>2875</td>\n",
              "      <td>502.0</td>\n",
              "      <td>0</td>\n",
              "      <td>1</td>\n",
              "      <td>1</td>\n",
              "      <td>1</td>\n",
              "      <td>1</td>\n",
              "      <td>1</td>\n",
              "      <td>1</td>\n",
              "      <td>1</td>\n",
              "      <td>0</td>\n",
              "      <td>0</td>\n",
              "      <td>0</td>\n",
              "      <td>0</td>\n",
              "      <td>0</td>\n",
              "      <td>1</td>\n",
              "      <td>1</td>\n",
              "      <td>1</td>\n",
              "      <td>1</td>\n",
              "      <td>0</td>\n",
              "      <td>0</td>\n",
              "      <td>0</td>\n",
              "      <td>0</td>\n",
              "      <td>0</td>\n",
              "      <td>0</td>\n",
              "      <td>0</td>\n",
              "      <td>1</td>\n",
              "      <td>1</td>\n",
              "      <td>0</td>\n",
              "    </tr>\n",
              "  </tbody>\n",
              "</table>\n",
              "</div>"
            ],
            "text/plain": [
              "    Title  ... Tile Floor\n",
              "0  Amelia  ...          0\n",
              "1  Amelia  ...          0\n",
              "2  Amelia  ...          0\n",
              "3  Amelia  ...          0\n",
              "4  Amelia  ...          0\n",
              "\n",
              "[5 rows x 40 columns]"
            ]
          },
          "metadata": {
            "tags": []
          },
          "execution_count": 74
        }
      ]
    },
    {
      "cell_type": "code",
      "metadata": {
        "id": "1eU-pQJlqrd1",
        "colab_type": "code",
        "colab": {
          "base_uri": "https://localhost:8080/",
          "height": 697
        },
        "outputId": "98956837-4254-4f67-c607-f4ac7446816e"
      },
      "source": [
        "df.columns.tolist()"
      ],
      "execution_count": 75,
      "outputs": [
        {
          "output_type": "execute_result",
          "data": {
            "text/plain": [
              "['Title',\n",
              " 'Address',\n",
              " 'Bedrooms',\n",
              " 'Bathrooms',\n",
              " 'Rent',\n",
              " 'Square Footage',\n",
              " 'Availability',\n",
              " 'Amenities',\n",
              " 'City',\n",
              " 'Zip_Code',\n",
              " 'Neighborhood',\n",
              " 'Avg_Rent',\n",
              " 'Avg_Sqft',\n",
              " 'Bosch_Appliances',\n",
              " 'Stainless_Steel_App',\n",
              " 'Refrigerator',\n",
              " 'Dishwasher',\n",
              " 'Microwave',\n",
              " 'Laundry',\n",
              " 'Washer/Dryer_in_unit',\n",
              " 'Terrace',\n",
              " 'Balcony',\n",
              " 'Vaulted_Ceilings',\n",
              " 'Garden',\n",
              " 'Penthouse',\n",
              " 'Concierge',\n",
              " 'Lounge',\n",
              " 'A/C',\n",
              " 'Smoke_Free',\n",
              " 'Pets_Allowed',\n",
              " 'Pool',\n",
              " 'Gym',\n",
              " 'Gated',\n",
              " 'Furnished',\n",
              " 'Garage',\n",
              " 'Wheelchair_Accessible',\n",
              " 'Carpet',\n",
              " 'Wood Floor',\n",
              " 'Plank Floor',\n",
              " 'Tile Floor']"
            ]
          },
          "metadata": {
            "tags": []
          },
          "execution_count": 75
        }
      ]
    },
    {
      "cell_type": "code",
      "metadata": {
        "id": "ZIAr_VmpZsfW",
        "colab_type": "code",
        "colab": {}
      },
      "source": [
        "#dropping columns I will no longer be using\n",
        "df_clean = df.drop(['Title','Address','Rent','Square Footage','Availability','Amenities'], axis =1)"
      ],
      "execution_count": 76,
      "outputs": []
    },
    {
      "cell_type": "code",
      "metadata": {
        "id": "UUwYK0uyqgMu",
        "colab_type": "code",
        "colab": {
          "base_uri": "https://localhost:8080/",
          "height": 612
        },
        "outputId": "5ec83617-9ddd-422f-8018-9f7ffc52628a"
      },
      "source": [
        "df_clean.isna().sum()"
      ],
      "execution_count": 77,
      "outputs": [
        {
          "output_type": "execute_result",
          "data": {
            "text/plain": [
              "Bedrooms                 0\n",
              "Bathrooms                0\n",
              "City                     0\n",
              "Zip_Code                 0\n",
              "Neighborhood             0\n",
              "Avg_Rent                 0\n",
              "Avg_Sqft                 0\n",
              "Bosch_Appliances         0\n",
              "Stainless_Steel_App      0\n",
              "Refrigerator             0\n",
              "Dishwasher               0\n",
              "Microwave                0\n",
              "Laundry                  0\n",
              "Washer/Dryer_in_unit     0\n",
              "Terrace                  0\n",
              "Balcony                  0\n",
              "Vaulted_Ceilings         0\n",
              "Garden                   0\n",
              "Penthouse                0\n",
              "Concierge                0\n",
              "Lounge                   0\n",
              "A/C                      0\n",
              "Smoke_Free               0\n",
              "Pets_Allowed             0\n",
              "Pool                     0\n",
              "Gym                      0\n",
              "Gated                    0\n",
              "Furnished                0\n",
              "Garage                   0\n",
              "Wheelchair_Accessible    0\n",
              "Carpet                   0\n",
              "Wood Floor               0\n",
              "Plank Floor              0\n",
              "Tile Floor               0\n",
              "dtype: int64"
            ]
          },
          "metadata": {
            "tags": []
          },
          "execution_count": 77
        }
      ]
    },
    {
      "cell_type": "code",
      "metadata": {
        "id": "xBrKbr3Eqh7u",
        "colab_type": "code",
        "colab": {
          "base_uri": "https://localhost:8080/",
          "height": 34
        },
        "outputId": "87e58430-5910-4489-9449-c4308bdf2d4e"
      },
      "source": [
        "df_clean.shape"
      ],
      "execution_count": 78,
      "outputs": [
        {
          "output_type": "execute_result",
          "data": {
            "text/plain": [
              "(8114, 34)"
            ]
          },
          "metadata": {
            "tags": []
          },
          "execution_count": 78
        }
      ]
    },
    {
      "cell_type": "code",
      "metadata": {
        "id": "sP25yovTqjbJ",
        "colab_type": "code",
        "colab": {}
      },
      "source": [
        "# un-comment to save cleaned dataframe to csv\n",
        "#df_clean.to_csv('apartment_data_clean.csv', index = False)"
      ],
      "execution_count": 79,
      "outputs": []
    }
  ]
}